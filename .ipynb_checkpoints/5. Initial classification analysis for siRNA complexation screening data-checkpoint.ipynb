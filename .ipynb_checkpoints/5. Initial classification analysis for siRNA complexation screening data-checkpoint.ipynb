{
 "cells": [
  {
   "cell_type": "markdown",
   "id": "6adb8d47",
   "metadata": {},
   "source": [
    "# Dependencies"
   ]
  },
  {
   "cell_type": "code",
   "execution_count": 1,
   "id": "07db95bc",
   "metadata": {},
   "outputs": [],
   "source": [
    "import pandas as pd\n",
    "import numpy as np\n",
    "from matplotlib import pyplot as plt\n",
    "\n",
    "from sklearn import preprocessing\n",
    "from sklearn.feature_selection import VarianceThreshold\n",
    "from sklearn.model_selection import cross_val_score\n",
    "from sklearn.model_selection import StratifiedKFold\n",
    "from sklearn.linear_model import LogisticRegression\n",
    "from sklearn.tree import DecisionTreeClassifier\n",
    "from sklearn.neighbors import KNeighborsClassifier\n",
    "from sklearn.discriminant_analysis import LinearDiscriminantAnalysis\n",
    "from sklearn.naive_bayes import GaussianNB\n",
    "from sklearn.svm import SVC\n",
    "from sklearn.ensemble import GradientBoostingClassifier\n",
    "from sklearn.neural_network import MLPClassifier\n",
    "from sklearn.ensemble import RandomForestClassifier\n",
    "from sklearn.metrics import confusion_matrix, ConfusionMatrixDisplay\n",
    "from sklearn.metrics import balanced_accuracy_score\n",
    "from sklearn.feature_selection import RFE\n",
    "from sklearn.feature_selection import RFECV\n",
    "\n",
    "from IPython.display import display, clear_output\n",
    "\n",
    "import pickle\n",
    "\n",
    "import random\n",
    "\n",
    "from itertools import combinations"
   ]
  },
  {
   "cell_type": "markdown",
   "id": "9b077bc3",
   "metadata": {},
   "source": [
    "# Functions"
   ]
  },
  {
   "cell_type": "code",
   "execution_count": 2,
   "id": "46c4fa11",
   "metadata": {},
   "outputs": [],
   "source": [
    "# function to run recursive feature elimination and output the reduced feature set\n",
    "# function takes model input features (X_in), model output (y_in), number of features (N), \n",
    "# type of feature elimination (RFE or RFECV, sel) and verbosity (verb)\n",
    "def feat_red(clf,X_in,y_in,N,sel,verb):\n",
    "    estimator = clf\n",
    "    if sel == 'RFECV':\n",
    "        selector = RFECV(estimator, min_features_to_select=N, step=1,verbose=verb, cv = 3)\n",
    "    else:\n",
    "        selector = RFE(estimator,n_features_to_select=N,step=1,verbose=verb)\n",
    "    selector = selector.fit(X_in,y_in)\n",
    "    feat_out = selector.get_feature_names_out(X_in.columns)\n",
    "    return feat_out\n",
    "\n",
    "# runs feat_red function for all numbers of features in array N for input X (features) and y (model output)\n",
    "# returns an array of feature sets for all specified N\n",
    "def multi_feat_red(clf,X_in,Y_in,N,sel):\n",
    "    feat_r = {}\n",
    "    feat_r[0] = X_in.columns\n",
    "    j=1\n",
    "    for i in N:\n",
    "        feat_r[j]= feat_red(clf,X_in[feat_r[j-1]],Y_in,i,sel,0)\n",
    "        j=j+1\n",
    "    return feat_r\n",
    "\n",
    "# function to compare binary classification methods for input training X and Y arrays\n",
    "def comp_bin(X_train,Y_train):\n",
    "    \n",
    "    print('   Balanced accuracy (SD)')\n",
    "    # List of algorithms to test\n",
    "    models = []\n",
    "    models.append(('LR', LogisticRegression(solver='liblinear', multi_class='ovr', class_weight='balanced')))\n",
    "    models.append(('LDA', LinearDiscriminantAnalysis()))\n",
    "    models.append(('KNN', KNeighborsClassifier()))\n",
    "    models.append(('DT', DecisionTreeClassifier(class_weight='balanced',random_state=0)))\n",
    "    models.append(('NB', GaussianNB()))\n",
    "    models.append(('SVM', SVC(gamma='auto',class_weight='balanced')))\n",
    "    models.append(('MLP', MLPClassifier(max_iter=1000)))\n",
    "    models.append(('GB',GradientBoostingClassifier(random_state=0)))\n",
    "    models.append(('RF',RandomForestClassifier(class_weight='balanced',random_state=0)))\n",
    "    \n",
    "    # Evaluate each model with 10-fold cross validation\n",
    "    results = []\n",
    "    names = []\n",
    "    for name, model in models:\n",
    "        kfold = StratifiedKFold(n_splits=10, random_state=1, shuffle=True)\n",
    "        cv_results = cross_val_score(model, X_train, Y_train, cv=kfold, scoring='balanced_accuracy')\n",
    "        results.append(cv_results)\n",
    "        names.append(name)\n",
    "        print('%5s: %f (%f)' % (name, cv_results.mean(), cv_results.std()))\n",
    "        \n",
    "    # Compare classification algorithms\n",
    "    plt.boxplot(results, labels=names)\n",
    "    plt.title('Classification Algorithm Comparison')\n",
    "    plt.ylabel('Balanced accuracy')\n",
    "    plt.ylim((0,1))\n",
    "    plt.show()\n",
    "    \n",
    "    return results\n",
    "\n",
    "# Testing a classifier with fit to X,Y with output of a confusion matrix and balanced accuracy score\n",
    "def cm_test(clf,X,Y):\n",
    "    clf.fit(X,Y)\n",
    "    predictions = clf.predict(X)\n",
    "    cm = confusion_matrix(Y, predictions, labels=clf.classes_)\n",
    "    disp = ConfusionMatrixDisplay(confusion_matrix=cm,display_labels=clf.classes_)\n",
    "    disp.plot()\n",
    "    plt.show()\n",
    "    print(\"Balanced accuracy: \",balanced_accuracy_score(Y,clf.predict(X)))\n",
    "    \n",
    "# Comparison of feature sets (feat_r) using stratified 10-fold cross validation for a selected classifier (clf)\n",
    "def feat_comp(clf,feat_r,X_train,Y_train,N_max):\n",
    "    \n",
    "    # output headers\n",
    "    print('           Balanced accuracy')\n",
    "    print(' i     N    Mean      (SD)')\n",
    "    \n",
    "    # defining array for results\n",
    "    results = []\n",
    "    \n",
    "    for i in feat_r:\n",
    "        \n",
    "        # selecting columns from X_train corresponding to each feature set\n",
    "        X_train2 = X_train[feat_r[i]]\n",
    "        \n",
    "        # finding balanced accuracy scores for stratified 10-fold cross validation \n",
    "        kfold = StratifiedKFold(n_splits=10, random_state=1, shuffle=True)\n",
    "        cv_results = cross_val_score(clf, X_train2, Y_train, cv=kfold, scoring='balanced_accuracy')\n",
    "        results.append(cv_results)\n",
    "        \n",
    "        # output results for each feature set\n",
    "        print('%2i: %5i %f (%f)' % (i, feat_r[i].shape[0], cv_results.mean(), cv_results.std()))\n",
    "\n",
    "    # calculating mean and standard deviation for scores\n",
    "    scores = [score.mean() for score in results]\n",
    "    stdevs = [score.std() for score in results]\n",
    "    \n",
    "    \n",
    "    scores_rev = scores[::-1]\n",
    "    \n",
    "    \n",
    "    plt.scatter([N_max]+N,scores)\n",
    "    plt.ylabel('Balanced Accuracy')\n",
    "    plt.xlabel('Number of features')\n",
    "    \n",
    "    return len(scores_rev) - np.argmax(scores_rev) - 2, scores, stdevs\n",
    "\n",
    "def best_desc_comb(desc_rank,freq_thresh,n_desc,x_train,y_train,x_test,y_test):\n",
    "    \n",
    "    desc_rank_thresh = desc_rank[counts>freq_thresh]\n",
    "\n",
    "    desc_comb =[]\n",
    "    for comb in combinations(desc_rank_thresh,n_desc):\n",
    "        desc_comb.append(comb)\n",
    "    \n",
    "    scores = []\n",
    "    scores_test = []\n",
    "    counter = 0\n",
    "    for descs in desc_comb:\n",
    "        X_train2 = x_train[list(descs)]\n",
    "        X_test2 = x_test[list(descs)]\n",
    "        clf = LogisticRegression(solver='liblinear', multi_class='ovr',class_weight='balanced')\n",
    "        clf.fit(X_train2,y_train)\n",
    "        predictions = clf.predict(X_train2)\n",
    "        scores.append(balanced_accuracy_score(y_train,clf.predict(X_train2)))\n",
    "        scores_test.append(balanced_accuracy_score(y_test,clf.predict(X_test2)))\n",
    "        counter = counter + 1\n",
    "        clear_output(wait=True)\n",
    "        display(str(counter)+'/'+str(len(desc_comb)))\n",
    "    print('Maximum score of:',max(scores),' for ',desc_comb[np.argmax(scores)],' with test score of: ',scores_test[np.argmax(scores)])\n",
    "    best_comb = list(desc_comb[np.argmax(scores)])\n",
    "    \n",
    "    return best_comb, max(scores), scores_test[np.argmax(scores)], desc_comb, scores\n",
    "\n",
    "def eval_descs_test_train(clf,x_train,y_train,x_test,y_test,descs):\n",
    "    scores_train = []\n",
    "    scores_test = []\n",
    "    for i in descs:\n",
    "        desc_i = descs[i]\n",
    "        clf.fit(x_train[desc_i],y_train)\n",
    "        scores_train.append(balanced_accuracy_score(y_train,clf.predict(x_train[desc_i])))\n",
    "        scores_test.append(balanced_accuracy_score(y_test,clf.predict(x_test[desc_i])))\n",
    "    scores_comb = pd.DataFrame({'Training set scores' : scores_train,\n",
    "                             'Testing set scores' : scores_test})\n",
    "    return scores_comb"
   ]
  },
  {
   "cell_type": "markdown",
   "id": "d115d089",
   "metadata": {},
   "source": [
    "# Data Import"
   ]
  },
  {
   "cell_type": "code",
   "execution_count": 3,
   "id": "5c6faef2",
   "metadata": {},
   "outputs": [],
   "source": [
    "# import data on RG fluorescence\n",
    "data = pd.read_csv('Data_files/RG_for_ML.csv')\n",
    " \n",
    "# Remove features with variance below threshold or correlated to each other\n",
    "\n",
    "# Threshold for variance\n",
    "threshold = 0;\n",
    "X = data.drop(['RG','Group','cb_pKa'],axis=1).select_dtypes(include='number');\n",
    "\n",
    "scaler = preprocessing.MinMaxScaler()\n",
    "\n",
    "X_scaled = X.copy()\n",
    "X_scaled[X.columns] = scaler.fit_transform(X[X.columns])\n",
    "\n",
    "selector = VarianceThreshold(threshold)\n",
    "selector.fit(X)\n",
    "X_reduced = X_scaled[X_scaled.columns[selector.get_support(indices=True)]]\n",
    "\n",
    "# Correlation matrix\n",
    "corr_matrix = X_reduced.corr().abs()\n",
    "\n",
    "# Select upper triangle of correlation matrix\n",
    "upper = corr_matrix.where(np.triu(np.ones(corr_matrix.shape), k=1).astype(bool))\n",
    "\n",
    "# Find features with correlation greater than 0.95\n",
    "to_drop = [column for column in upper.columns if any(upper[column] > 0.95)]\n",
    "\n",
    "# Drop features \n",
    "X_reduced = X_reduced.drop(to_drop, axis=1)\n",
    "\n",
    "Y = data['RG_binary']"
   ]
  },
  {
   "cell_type": "code",
   "execution_count": 4,
   "id": "4313053f",
   "metadata": {},
   "outputs": [],
   "source": [
    "x=X_reduced\n",
    "y=Y"
   ]
  },
  {
   "cell_type": "markdown",
   "id": "7a4fe4ff",
   "metadata": {},
   "source": [
    "# Compare binary classification methods"
   ]
  },
  {
   "cell_type": "code",
   "execution_count": 5,
   "id": "dc6db81c",
   "metadata": {},
   "outputs": [
    {
     "name": "stdout",
     "output_type": "stream",
     "text": [
      "   Balanced accuracy (SD)\n",
      "   LR: 0.681410 (0.147806)\n",
      "  LDA: 0.552244 (0.147304)\n",
      "  KNN: 0.709295 (0.154193)\n",
      "   DT: 0.544551 (0.197325)\n",
      "   NB: 0.517308 (0.116353)\n",
      "  SVM: 0.695192 (0.194398)\n",
      "  MLP: 0.559615 (0.118998)\n",
      "   GB: 0.672756 (0.202185)\n",
      "   RF: 0.542308 (0.104909)\n"
     ]
    },
    {
     "data": {
      "image/png": "[encoded data removed]",
      "text/plain": [
       "<Figure size 432x288 with 1 Axes>"
      ]
     },
     "metadata": {
      "needs_background": "light"
     },
     "output_type": "display_data"
    }
   ],
   "source": [
    "comp_bin_results = comp_bin(x,y)"
   ]
  },
  {
   "cell_type": "code",
   "execution_count": 6,
   "id": "e4c99355",
   "metadata": {},
   "outputs": [],
   "source": [
    "comp_bin_df = pd.DataFrame(comp_bin_results)\n",
    "comp_bin_df.to_csv('Data_files/For_plotting/model1_classification_method_comparison.csv')"
   ]
  },
  {
   "cell_type": "markdown",
   "id": "a4f35936",
   "metadata": {},
   "source": [
    "# Run chosen classification method using all molecular descriptors"
   ]
  },
  {
   "cell_type": "code",
   "execution_count": 7,
   "id": "96ecf971",
   "metadata": {},
   "outputs": [
    {
     "data": {
      "image/png": "[encoded data removed]",
      "text/plain": [
       "<Figure size 432x288 with 2 Axes>"
      ]
     },
     "metadata": {
      "needs_background": "light"
     },
     "output_type": "display_data"
    },
    {
     "name": "stdout",
     "output_type": "stream",
     "text": [
      "Balanced accuracy:  0.9959677419354839\n"
     ]
    }
   ],
   "source": [
    "clf = LogisticRegression(solver='liblinear', multi_class='ovr',class_weight='balanced')\n",
    "cm_test(clf,x,y)"
   ]
  },
  {
   "cell_type": "markdown",
   "id": "0282caec",
   "metadata": {},
   "source": [
    "# Recursive feature elimination for selected models"
   ]
  },
  {
   "cell_type": "code",
   "execution_count": 8,
   "id": "97bb9120",
   "metadata": {},
   "outputs": [],
   "source": [
    "# defining array of number of features to test\n",
    "N = [1000,500,200,100,50,20,15,10,9,8,7,6,5,4,3,2,1]\n",
    "N_out = N.copy()\n",
    "N_out.insert(0,len(x.columns))"
   ]
  },
  {
   "cell_type": "code",
   "execution_count": 9,
   "id": "1499e017",
   "metadata": {},
   "outputs": [
    {
     "name": "stdout",
     "output_type": "stream",
     "text": [
      "           Balanced accuracy\n",
      " i     N    Mean      (SD)\n",
      " 0:  1784 0.681410 (0.147806)\n",
      " 1:  1000 0.764744 (0.177601)\n",
      " 2:   500 0.848077 (0.195635)\n",
      " 3:   200 0.876923 (0.177549)\n",
      " 4:   100 0.901603 (0.174555)\n",
      " 5:    50 0.901923 (0.186935)\n",
      " 6:    20 0.889423 (0.182221)\n",
      " 7:    15 0.889423 (0.182221)\n",
      " 8:    10 0.935897 (0.075779)\n",
      " 9:     9 0.911218 (0.061084)\n",
      "10:     8 0.915385 (0.062712)\n",
      "11:     7 0.848718 (0.163793)\n",
      "12:     6 0.886538 (0.064154)\n",
      "13:     5 0.882051 (0.066491)\n",
      "14:     4 0.886538 (0.067189)\n",
      "15:     3 0.870513 (0.061522)\n",
      "16:     2 0.883013 (0.083754)\n",
      "17:     1 0.850000 (0.087996)\n",
      "\n",
      " Best number of descriptors =  10\n"
     ]
    },
    {
     "data": {
      "image/png": "[encoded data removed]",
      "text/plain": [
       "<Figure size 432x288 with 1 Axes>"
      ]
     },
     "metadata": {
      "needs_background": "light"
     },
     "output_type": "display_data"
    },
    {
     "data": {
      "image/png": "[encoded data removed]",
      "text/plain": [
       "<Figure size 432x288 with 2 Axes>"
      ]
     },
     "metadata": {
      "needs_background": "light"
     },
     "output_type": "display_data"
    },
    {
     "name": "stdout",
     "output_type": "stream",
     "text": [
      "Balanced accuracy:  0.9596774193548387\n"
     ]
    }
   ],
   "source": [
    "# Logistic regression\n",
    "clf = LogisticRegression(solver='liblinear', multi_class='ovr', class_weight='balanced', max_iter=1000)\n",
    "\n",
    "# determine features for each number defined in N\n",
    "feat_r = multi_feat_red(clf,x,y,N,'RFE')\n",
    "\n",
    "# determine scores for each set of features\n",
    "N_best,scores,stdevs = feat_comp(clf,feat_r,x,y,len(x.columns))\n",
    "\n",
    "print('\\n Best number of descriptors = ',N[N_best])\n",
    "\n",
    "# show confusion matrix for best number of descriptors\n",
    "cm_test(clf,x[feat_r[N_best+1]],y)\n",
    "\n",
    "# output scores to data file\n",
    "LR_scores = pd.DataFrame({'N':N_out,'Scores':scores,'SD':stdevs})\n",
    "LR_scores.to_csv('Data_files/For_plotting/model1_LR_scores.csv')"
   ]
  },
  {
   "cell_type": "code",
   "execution_count": 10,
   "id": "9191d2c5",
   "metadata": {},
   "outputs": [
    {
     "name": "stdout",
     "output_type": "stream",
     "text": [
      "           Balanced accuracy\n",
      " i     N    Mean      (SD)\n",
      " 0:  1784 0.552244 (0.147304)\n",
      " 1:  1000 0.713462 (0.184946)\n",
      " 2:   500 0.729808 (0.113618)\n",
      " 3:   200 0.706410 (0.148886)\n",
      " 4:   100 0.809295 (0.173919)\n",
      " 5:    50 0.842308 (0.171100)\n",
      " 6:    20 0.734295 (0.159282)\n",
      " 7:    15 0.713141 (0.185750)\n",
      " 8:    10 0.663141 (0.202032)\n",
      " 9:     9 0.667308 (0.203347)\n",
      "10:     8 0.667308 (0.203347)\n",
      "11:     7 0.667308 (0.203347)\n",
      "12:     6 0.667308 (0.203347)\n",
      "13:     5 0.667308 (0.203347)\n",
      "14:     4 0.567308 (0.120480)\n",
      "15:     3 0.567308 (0.120480)\n",
      "16:     2 0.567308 (0.120480)\n",
      "17:     1 0.567308 (0.120480)\n",
      "\n",
      " Best number of descriptors =  50\n"
     ]
    },
    {
     "data": {
      "image/png": "[encoded data removed]",
      "text/plain": [
       "<Figure size 432x288 with 1 Axes>"
      ]
     },
     "metadata": {
      "needs_background": "light"
     },
     "output_type": "display_data"
    },
    {
     "data": {
      "image/png": "[encoded data removed]",
      "text/plain": [
       "<Figure size 432x288 with 2 Axes>"
      ]
     },
     "metadata": {
      "needs_background": "light"
     },
     "output_type": "display_data"
    },
    {
     "name": "stdout",
     "output_type": "stream",
     "text": [
      "Balanced accuracy:  1.0\n"
     ]
    }
   ],
   "source": [
    "# Linear Discriminant Analysis\n",
    "clf = LinearDiscriminantAnalysis()\n",
    "\n",
    "# determine features for each number defined in N\n",
    "feat_r = multi_feat_red(clf,x,y,N,'RFE')\n",
    "\n",
    "# determine scores for each set of features\n",
    "N_best,scores,stdevs = feat_comp(clf,feat_r,x,y,len(x.columns))\n",
    "\n",
    "print('\\n Best number of descriptors = ',N[N_best])\n",
    "\n",
    "# show confusion matrix for best number of descriptors\n",
    "cm_test(clf,x[feat_r[N_best+1]],y)\n",
    "\n",
    "# output scores to data file\n",
    "LDA_scores = pd.DataFrame({'N':N_out,'Scores':scores,'SD':stdevs})\n",
    "LDA_scores.to_csv('Data_files/For_plotting/model1_LDA_scores.csv')"
   ]
  },
  {
   "cell_type": "code",
   "execution_count": 11,
   "id": "e3307cb1",
   "metadata": {},
   "outputs": [
    {
     "name": "stdout",
     "output_type": "stream",
     "text": [
      "           Balanced accuracy\n",
      " i     N    Mean      (SD)\n",
      " 0:  1784 0.544551 (0.197325)\n",
      " 1:  1000 0.565064 (0.216250)\n",
      " 2:   500 0.590385 (0.208495)\n",
      " 3:   200 0.635256 (0.202714)\n",
      " 4:   100 0.635256 (0.175989)\n",
      " 5:    50 0.859295 (0.180437)\n",
      " 6:    20 0.859295 (0.180437)\n",
      " 7:    15 0.867308 (0.174025)\n",
      " 8:    10 0.867308 (0.174025)\n",
      " 9:     9 0.842308 (0.204390)\n",
      "10:     8 0.867308 (0.174025)\n",
      "11:     7 0.842308 (0.204390)\n",
      "12:     6 0.867308 (0.174025)\n",
      "13:     5 0.863141 (0.204537)\n",
      "14:     4 0.779487 (0.262507)\n",
      "15:     3 0.779808 (0.262018)\n",
      "16:     2 0.693269 (0.205998)\n",
      "17:     1 0.735256 (0.214107)\n",
      "\n",
      " Best number of descriptors =  6\n"
     ]
    },
    {
     "data": {
      "image/png": "[encoded data removed]",
      "text/plain": [
       "<Figure size 432x288 with 1 Axes>"
      ]
     },
     "metadata": {
      "needs_background": "light"
     },
     "output_type": "display_data"
    },
    {
     "data": {
      "image/png": "[encoded data removed]",
      "text/plain": [
       "<Figure size 432x288 with 2 Axes>"
      ]
     },
     "metadata": {
      "needs_background": "light"
     },
     "output_type": "display_data"
    },
    {
     "name": "stdout",
     "output_type": "stream",
     "text": [
      "Balanced accuracy:  1.0\n"
     ]
    }
   ],
   "source": [
    "# Decision Tree\n",
    "clf = DecisionTreeClassifier(class_weight='balanced',random_state=0)\n",
    "\n",
    "# determine features for each number defined in N\n",
    "feat_r = multi_feat_red(clf,x,y,N,'RFE')\n",
    "\n",
    "# determine scores for each set of features\n",
    "N_best,scores,stdevs = feat_comp(clf,feat_r,x,y,len(x.columns))\n",
    "\n",
    "print('\\n Best number of descriptors = ',N[N_best])\n",
    "\n",
    "# show confusion matrix for best number of descriptors\n",
    "cm_test(clf,x[feat_r[N_best+1]],y)\n",
    "\n",
    "# output scores to data file\n",
    "DT_scores = pd.DataFrame({'N':N_out,'Scores':scores,'SD':stdevs})\n",
    "DT_scores.to_csv('Data_files/For_plotting/model1_DT_scores.csv')"
   ]
  },
  {
   "cell_type": "code",
   "execution_count": 12,
   "id": "b8d40cf9",
   "metadata": {},
   "outputs": [
    {
     "name": "stdout",
     "output_type": "stream",
     "text": [
      "           Balanced accuracy\n",
      " i     N    Mean      (SD)\n",
      " 0:  1784 0.672756 (0.202185)\n",
      " 1:  1000 0.685577 (0.214535)\n",
      " 2:   500 0.755449 (0.195066)\n",
      " 3:   200 0.788462 (0.206227)\n",
      " 4:   100 0.892308 (0.124985)\n",
      " 5:    50 0.867308 (0.174025)\n",
      " 6:    20 0.892308 (0.124985)\n",
      " 7:    15 0.896154 (0.119850)\n",
      " 8:    10 0.896154 (0.119850)\n",
      " 9:     9 0.896154 (0.119850)\n",
      "10:     8 0.896154 (0.119850)\n",
      "11:     7 0.896154 (0.119850)\n",
      "12:     6 0.896154 (0.119850)\n",
      "13:     5 0.892308 (0.124985)\n",
      "14:     4 0.896154 (0.119850)\n",
      "15:     3 0.772436 (0.155896)\n",
      "16:     2 0.747115 (0.172759)\n",
      "17:     1 0.615705 (0.146116)\n",
      "\n",
      " Best number of descriptors =  4\n"
     ]
    },
    {
     "data": {
      "image/png": "[encoded data removed]",
      "text/plain": [
       "<Figure size 432x288 with 1 Axes>"
      ]
     },
     "metadata": {
      "needs_background": "light"
     },
     "output_type": "display_data"
    },
    {
     "data": {
      "image/png": "[encoded data removed]",
      "text/plain": [
       "<Figure size 432x288 with 2 Axes>"
      ]
     },
     "metadata": {
      "needs_background": "light"
     },
     "output_type": "display_data"
    },
    {
     "name": "stdout",
     "output_type": "stream",
     "text": [
      "Balanced accuracy:  1.0\n"
     ]
    }
   ],
   "source": [
    "# Gradient Boosting\n",
    "clf = GradientBoostingClassifier(random_state=0)\n",
    "\n",
    "# determine features for each number defined in N\n",
    "feat_r = multi_feat_red(clf,x,y,N,'RFE')\n",
    "\n",
    "# determine scores for each set of features\n",
    "N_best,scores,stdevs = feat_comp(clf,feat_r,x,y,len(x.columns))\n",
    "\n",
    "print('\\n Best number of descriptors = ',N[N_best])\n",
    "\n",
    "# show confusion matrix for best number of descriptors\n",
    "cm_test(clf,x[feat_r[N_best+1]],y)\n",
    "\n",
    "# output scores to data file\n",
    "GB_scores = pd.DataFrame({'N':N_out,'Scores':scores,'SD':stdevs})\n",
    "GB_scores.to_csv('Data_files/For_plotting/model1_GB_scores.csv')"
   ]
  },
  {
   "cell_type": "code",
   "execution_count": 13,
   "id": "dd72478c",
   "metadata": {},
   "outputs": [
    {
     "name": "stdout",
     "output_type": "stream",
     "text": [
      "           Balanced accuracy\n",
      " i     N    Mean      (SD)\n",
      " 0:  1784 0.542308 (0.104909)\n",
      " 1:  1000 0.542308 (0.104909)\n",
      " 2:   500 0.541987 (0.105160)\n",
      " 3:   200 0.546154 (0.102556)\n",
      " 4:   100 0.596154 (0.168530)\n",
      " 5:    50 0.613141 (0.166049)\n",
      " 6:    20 0.609295 (0.207689)\n",
      " 7:    15 0.641987 (0.206546)\n",
      " 8:    10 0.658974 (0.201486)\n",
      " 9:     9 0.605128 (0.173105)\n",
      "10:     8 0.680128 (0.228738)\n",
      "11:     7 0.622115 (0.232014)\n",
      "12:     6 0.567628 (0.176244)\n",
      "13:     5 0.571795 (0.179007)\n",
      "14:     4 0.604808 (0.179281)\n",
      "15:     3 0.626282 (0.166199)\n",
      "16:     2 0.643269 (0.185466)\n",
      "17:     1 0.735256 (0.214107)\n",
      "\n",
      " Best number of descriptors =  1\n"
     ]
    },
    {
     "data": {
      "image/png": "[encoded data removed]",
      "text/plain": [
       "<Figure size 432x288 with 1 Axes>"
      ]
     },
     "metadata": {
      "needs_background": "light"
     },
     "output_type": "display_data"
    },
    {
     "data": {
      "image/png": "[encoded data removed]",
      "text/plain": [
       "<Figure size 432x288 with 2 Axes>"
      ]
     },
     "metadata": {
      "needs_background": "light"
     },
     "output_type": "display_data"
    },
    {
     "name": "stdout",
     "output_type": "stream",
     "text": [
      "Balanced accuracy:  0.9681899641577061\n"
     ]
    }
   ],
   "source": [
    "# Random Forest\n",
    "clf = RandomForestClassifier(class_weight='balanced',random_state=0)\n",
    "\n",
    "# determine features for each number defined in N\n",
    "feat_r = multi_feat_red(clf,x,y,N,'RFE')\n",
    "\n",
    "# determine scores for each set of features\n",
    "N_best,scores,stdevs = feat_comp(clf,feat_r,x,y,len(x.columns))\n",
    "\n",
    "print('\\n Best number of descriptors = ',N[N_best])\n",
    "\n",
    "# show confusion matrix for best number of descriptors\n",
    "cm_test(clf,x[feat_r[N_best+1]],y)\n",
    "\n",
    "# output scores to data file\n",
    "RF_scores = pd.DataFrame({'N':N_out,'Scores':scores,'SD':stdevs})\n",
    "RF_scores.to_csv('Data_files/For_plotting/model1_RF_scores.csv')"
   ]
  },
  {
   "cell_type": "markdown",
   "id": "20809302",
   "metadata": {},
   "source": [
    "# Evaluating best model obtained through RFE with test compounds"
   ]
  },
  {
   "cell_type": "code",
   "execution_count": 14,
   "id": "91240e2d",
   "metadata": {},
   "outputs": [],
   "source": [
    "# Logistic regression\n",
    "clf = LogisticRegression(solver='liblinear', multi_class='ovr', class_weight='balanced', max_iter=1000)\n",
    "\n",
    "# determine features for each number defined in N\n",
    "feat_r = multi_feat_red(clf,x,y,N,'RFE')\n",
    "\n",
    "# using best N from above\n",
    "N_best = 8"
   ]
  },
  {
   "cell_type": "code",
   "execution_count": 15,
   "id": "b6d5c8e6",
   "metadata": {},
   "outputs": [
    {
     "data": {
      "image/png": "[encoded data removed]",
      "text/plain": [
       "<Figure size 432x288 with 2 Axes>"
      ]
     },
     "metadata": {
      "needs_background": "light"
     },
     "output_type": "display_data"
    },
    {
     "name": "stdout",
     "output_type": "stream",
     "text": [
      "Balanced accuracy: 0.33125\n"
     ]
    }
   ],
   "source": [
    "clf = LogisticRegression(solver='liblinear', multi_class='ovr', class_weight='balanced', max_iter=1000)\n",
    "clf.fit(x[feat_r[N_best+1]],y)\n",
    "\n",
    "test_molecules = pd.read_csv('Data_files/descriptors_test_compounds.csv')\n",
    "\n",
    "X_test = test_molecules\n",
    "\n",
    "X_test[X.columns] = scaler.transform(X_test[X.columns])\n",
    "Y_test = test_molecules['siRNA complexing']\n",
    "\n",
    "Y_pred = clf.predict(X_test[feat_r[N_best+1]])\n",
    "\n",
    "cm = confusion_matrix(Y_test, Y_pred, labels=clf.classes_)\n",
    "disp = ConfusionMatrixDisplay(confusion_matrix=cm,display_labels=clf.classes_)\n",
    "disp.plot()\n",
    "\n",
    "plt.show()\n",
    "print('Balanced accuracy:', balanced_accuracy_score(Y_test,Y_pred))"
   ]
  },
  {
   "cell_type": "markdown",
   "id": "43919fe0",
   "metadata": {},
   "source": [
    "# Alternative descriptor selection method"
   ]
  },
  {
   "cell_type": "code",
   "execution_count": null,
   "id": "2c761e7c",
   "metadata": {},
   "outputs": [],
   "source": [
    "# Split dataset into 100 balanced sets with all 18 True compounds and a random set of 18 False compounds\n",
    "# Use recursive feature elimination to find the best 10-descriptor fits for each set\n",
    "# store all features from this analysis in a matrix\n",
    "\n",
    "clf = LogisticRegression(solver='liblinear', multi_class='ovr', class_weight='balanced', max_iter=1000)\n",
    "\n",
    "feat_rfe_100 = []\n",
    "for i in range(100):\n",
    "    indices = y[y==False].sample(n=18).index\n",
    "    X2 = pd.concat([x[y==True],x.loc[indices]])\n",
    "    Y2 = pd.concat([y[y==True],y[indices]])\n",
    "    feat_rfe_100.append(feat_red(clf,X2,Y2,10,'RFE',0))\n",
    "    clf.fit(X2[feat_rfe_100[i]],Y2)\n",
    "    cm_test(clf,X2[feat_rfe_100[i]],Y2)\n",
    "    print(i,feat_rfe_100[i])"
   ]
  },
  {
   "cell_type": "code",
   "execution_count": null,
   "id": "484e26a4",
   "metadata": {},
   "outputs": [],
   "source": [
    "# store array with frequency of each descriptor\n",
    "counts = pd.Series(np.stack(feat_rfe_100).flatten()).value_counts(sort=False)\n",
    "counts.plot(kind='bar')"
   ]
  },
  {
   "cell_type": "code",
   "execution_count": null,
   "id": "41407814",
   "metadata": {},
   "outputs": [],
   "source": [
    "# Extract names of descriptors that appeared in 100 fits\n",
    "desc_rfe_100 = counts.index"
   ]
  },
  {
   "cell_type": "markdown",
   "id": "72d444f0",
   "metadata": {},
   "source": [
    "## Method 1 - Sequentially add descriptors from reduced set"
   ]
  },
  {
   "cell_type": "code",
   "execution_count": null,
   "id": "6c1d1df5",
   "metadata": {},
   "outputs": [],
   "source": [
    "# array to store best descriptors\n",
    "desc_best_all_1 = []\n",
    "scores_train_all_1 = []\n",
    "scores_test_all_1 = []\n",
    "desc_best = []\n",
    "\n",
    "# find best descriptor combinations up to a total of 10\n",
    "for _ in range(10):\n",
    "    scores_train = []\n",
    "    scores_test = []\n",
    "    descs = []\n",
    "    \n",
    "    for desc in desc_rfe_100:\n",
    "        #print(desc)\n",
    "        descs = desc_best.copy()\n",
    "        descs.append(desc)\n",
    "   \n",
    "        X_train2 = x[descs]\n",
    "\n",
    "        clf = LogisticRegression(solver='liblinear', multi_class='ovr',class_weight='balanced')\n",
    "\n",
    "        clf.fit(X_train2,y)\n",
    "\n",
    "        Y_pred_train = clf.predict(X_train2)\n",
    "        Y_pred_test = clf.predict(X_test[descs])\n",
    "\n",
    "        scores_train.append(balanced_accuracy_score(y,clf.predict(X_train2)))\n",
    "        scores_test.append(balanced_accuracy_score(Y_test,clf.predict(X_test[descs])))\n",
    "\n",
    "        #print(balanced_accuracy_score(y,clf.predict(X_train2)))\n",
    "    desc_best.append(desc_rfe_100[np.argmax(scores_train)])\n",
    "    print(desc_best,max(scores_train),scores_test[np.argmax(scores_train)])"
   ]
  },
  {
   "cell_type": "code",
   "execution_count": 16,
   "id": "4794033b",
   "metadata": {},
   "outputs": [],
   "source": [
    "# List of best descriptors determined by method 1\n",
    "# Since reduced descriptor set was based on random selection of datasets, descriptors determined by the\n",
    "# run used in manuscript are manually entered here\n",
    "\n",
    "descs_1_man = {}\n",
    "\n",
    "descs_1_man[0] = ['Mor32m']\n",
    "descs_1_man[1] = ['Mor32m', 'Mor25m']\n",
    "descs_1_man[2] = ['Mor32m', 'Mor25m', 'ALOGP2']\n",
    "descs_1_man[3] = ['Mor32m', 'Mor25m', 'ALOGP2', 'VE1sign_RG']\n",
    "descs_1_man[4] = ['Mor32m', 'Mor25m', 'ALOGP2', 'VE1sign_RG', 'RDF040m']\n",
    "descs_1_man[5] = ['Mor32m', 'Mor25m', 'ALOGP2', 'VE1sign_RG', 'RDF040m', 'CATS3D_04_AP']\n",
    "descs_1_man[6] = ['Mor32m', 'Mor25m', 'ALOGP2', 'VE1sign_RG', 'RDF040m', 'CATS3D_04_AP', 'B10[N-N]']\n",
    "descs_1_man[7] = ['Mor32m', 'Mor25m', 'ALOGP2', 'VE1sign_RG', 'RDF040m', 'CATS3D_04_AP', 'B10[N-N]', 'nArCONR2']\n",
    "descs_1_man[8] = ['Mor32m', 'Mor25m', 'ALOGP2', 'VE1sign_RG', 'RDF040m', 'CATS3D_04_AP', 'B10[N-N]', 'nArCONR2','SpMAD_EA(ri)']\n",
    "descs_1_man[9] = ['Mor32m', 'Mor25m', 'ALOGP2', 'VE1sign_RG', 'RDF040m', 'CATS3D_04_AP', 'B10[N-N]', 'nArCONR2','SpMAD_EA(ri)', 'EE_G']"
   ]
  },
  {
   "cell_type": "code",
   "execution_count": 17,
   "id": "d2ee9757",
   "metadata": {},
   "outputs": [
    {
     "data": {
      "text/html": [
       "<div>\n",
       "<style scoped>\n",
       "    .dataframe tbody tr th:only-of-type {\n",
       "        vertical-align: middle;\n",
       "    }\n",
       "\n",
       "    .dataframe tbody tr th {\n",
       "        vertical-align: top;\n",
       "    }\n",
       "\n",
       "    .dataframe thead th {\n",
       "        text-align: right;\n",
       "    }\n",
       "</style>\n",
       "<table border=\"1\" class=\"dataframe\">\n",
       "  <thead>\n",
       "    <tr style=\"text-align: right;\">\n",
       "      <th></th>\n",
       "      <th>Training set scores</th>\n",
       "      <th>Testing set scores</th>\n",
       "    </tr>\n",
       "  </thead>\n",
       "  <tbody>\n",
       "    <tr>\n",
       "      <th>0</th>\n",
       "      <td>0.843638</td>\n",
       "      <td>0.32500</td>\n",
       "    </tr>\n",
       "    <tr>\n",
       "      <th>1</th>\n",
       "      <td>0.879480</td>\n",
       "      <td>0.23125</td>\n",
       "    </tr>\n",
       "    <tr>\n",
       "      <th>2</th>\n",
       "      <td>0.927419</td>\n",
       "      <td>0.73750</td>\n",
       "    </tr>\n",
       "    <tr>\n",
       "      <th>3</th>\n",
       "      <td>0.931452</td>\n",
       "      <td>0.63750</td>\n",
       "    </tr>\n",
       "    <tr>\n",
       "      <th>4</th>\n",
       "      <td>0.943548</td>\n",
       "      <td>0.60625</td>\n",
       "    </tr>\n",
       "    <tr>\n",
       "      <th>5</th>\n",
       "      <td>0.947581</td>\n",
       "      <td>0.60625</td>\n",
       "    </tr>\n",
       "    <tr>\n",
       "      <th>6</th>\n",
       "      <td>0.947581</td>\n",
       "      <td>0.60625</td>\n",
       "    </tr>\n",
       "    <tr>\n",
       "      <th>7</th>\n",
       "      <td>0.951613</td>\n",
       "      <td>0.60625</td>\n",
       "    </tr>\n",
       "    <tr>\n",
       "      <th>8</th>\n",
       "      <td>0.955645</td>\n",
       "      <td>0.60625</td>\n",
       "    </tr>\n",
       "    <tr>\n",
       "      <th>9</th>\n",
       "      <td>0.959677</td>\n",
       "      <td>0.51250</td>\n",
       "    </tr>\n",
       "  </tbody>\n",
       "</table>\n",
       "</div>"
      ],
      "text/plain": [
       "   Training set scores  Testing set scores\n",
       "0             0.843638             0.32500\n",
       "1             0.879480             0.23125\n",
       "2             0.927419             0.73750\n",
       "3             0.931452             0.63750\n",
       "4             0.943548             0.60625\n",
       "5             0.947581             0.60625\n",
       "6             0.947581             0.60625\n",
       "7             0.951613             0.60625\n",
       "8             0.955645             0.60625\n",
       "9             0.959677             0.51250"
      ]
     },
     "execution_count": 17,
     "metadata": {},
     "output_type": "execute_result"
    }
   ],
   "source": [
    "method_1_scores = eval_descs_test_train(clf,x,y,X_test,Y_test,descs_1_man)\n",
    "method_1_scores.to_csv('Data_files/For_plotting/method_1_scores.csv')\n",
    "method_1_scores"
   ]
  },
  {
   "cell_type": "markdown",
   "id": "73f076c4",
   "metadata": {},
   "source": [
    "## Method 2 - Test all combinations of descriptors from reduced set for a given number (n choose k)"
   ]
  },
  {
   "cell_type": "code",
   "execution_count": null,
   "id": "139bbb87",
   "metadata": {},
   "outputs": [],
   "source": [
    "# Define threshold for frequency of descriptor in reduced set (>9)\n",
    "freq_thresh = 9\n",
    "\n",
    "# Define maximum number of descriptors to search for\n",
    "max_desc = 7\n",
    "\n",
    "# Arrays to store best scores and combinations of descriptors for each set of n descriptors\n",
    "best_scores = []\n",
    "best_combs = []\n",
    "\n",
    "# Iterate over desciptor set sizes\n",
    "for i in range(max_desc):\n",
    "    print (i)\n",
    "    [best_comb, best_score,_,_,_] = best_desc_comb(desc_rfe_100,freq_thresh,i+1,x,y,X_test,Y_test)\n",
    "    best_combs.append(best_comb)\n",
    "    best_scores.append(best_score)"
   ]
  },
  {
   "cell_type": "code",
   "execution_count": null,
   "id": "843245d7",
   "metadata": {},
   "outputs": [],
   "source": [
    "# Generate output array of best descriptors and scores\n",
    "best_comb_scores = pd.DataFrame()\n",
    "best_comb_scores['Descriptors'] = best_combs\n",
    "best_comb_scores['Scores'] = best_scores\n",
    "best_comb_scores"
   ]
  },
  {
   "cell_type": "code",
   "execution_count": 18,
   "id": "d1f5a4e9",
   "metadata": {},
   "outputs": [],
   "source": [
    "# List of best descriptors determined by method 2\n",
    "# Since reduced descriptor set was based on random selection of datasets, descriptors determined by the\n",
    "# run used in manuscript are manually entered here\n",
    "\n",
    "descs_2_man = {}\n",
    "descs_2_man[0] = ['Mor32m']\n",
    "descs_2_man[1] = ['Mor32m', 'Mor25m']\n",
    "descs_2_man[2] = ['Mor32m', 'ALOGP2', 'VE1sign_RG']\n",
    "descs_2_man[3] = ['Mor32m', 'ALOGP2', 'B05[N-F]', 'VE1sign_RG']\n",
    "descs_2_man[4] = ['Mor32m', 'NaaaC', 'ALOGP2', 'VE1sign_RG', 'B04[N-O]']\n",
    "descs_2_man[5] = ['B03[N-O]', 'Infective-80', 'Mor32m', 'B05[N-F]', 's4_numAroBonds', 'B08[O-O]']\n",
    "descs_2_man[6] = ['B03[N-O]', 'B09[N-O]', 'Infective-80', 'Mor32m', 'B05[N-F]', 's4_numAroBonds', 'B08[O-O]']"
   ]
  },
  {
   "cell_type": "code",
   "execution_count": 19,
   "id": "d079aee7",
   "metadata": {},
   "outputs": [
    {
     "data": {
      "text/html": [
       "<div>\n",
       "<style scoped>\n",
       "    .dataframe tbody tr th:only-of-type {\n",
       "        vertical-align: middle;\n",
       "    }\n",
       "\n",
       "    .dataframe tbody tr th {\n",
       "        vertical-align: top;\n",
       "    }\n",
       "\n",
       "    .dataframe thead th {\n",
       "        text-align: right;\n",
       "    }\n",
       "</style>\n",
       "<table border=\"1\" class=\"dataframe\">\n",
       "  <thead>\n",
       "    <tr style=\"text-align: right;\">\n",
       "      <th></th>\n",
       "      <th>Training set scores</th>\n",
       "      <th>Testing set scores</th>\n",
       "    </tr>\n",
       "  </thead>\n",
       "  <tbody>\n",
       "    <tr>\n",
       "      <th>0</th>\n",
       "      <td>0.843638</td>\n",
       "      <td>0.32500</td>\n",
       "    </tr>\n",
       "    <tr>\n",
       "      <th>1</th>\n",
       "      <td>0.879480</td>\n",
       "      <td>0.23125</td>\n",
       "    </tr>\n",
       "    <tr>\n",
       "      <th>2</th>\n",
       "      <td>0.939516</td>\n",
       "      <td>0.66875</td>\n",
       "    </tr>\n",
       "    <tr>\n",
       "      <th>3</th>\n",
       "      <td>0.939516</td>\n",
       "      <td>0.76875</td>\n",
       "    </tr>\n",
       "    <tr>\n",
       "      <th>4</th>\n",
       "      <td>0.947581</td>\n",
       "      <td>0.76875</td>\n",
       "    </tr>\n",
       "    <tr>\n",
       "      <th>5</th>\n",
       "      <td>0.959677</td>\n",
       "      <td>0.41250</td>\n",
       "    </tr>\n",
       "    <tr>\n",
       "      <th>6</th>\n",
       "      <td>0.955645</td>\n",
       "      <td>0.61250</td>\n",
       "    </tr>\n",
       "  </tbody>\n",
       "</table>\n",
       "</div>"
      ],
      "text/plain": [
       "   Training set scores  Testing set scores\n",
       "0             0.843638             0.32500\n",
       "1             0.879480             0.23125\n",
       "2             0.939516             0.66875\n",
       "3             0.939516             0.76875\n",
       "4             0.947581             0.76875\n",
       "5             0.959677             0.41250\n",
       "6             0.955645             0.61250"
      ]
     },
     "execution_count": 19,
     "metadata": {},
     "output_type": "execute_result"
    }
   ],
   "source": [
    "# Output best scores from method 2\n",
    "method_2_scores = eval_descs_test_train(clf,x,y,X_test,Y_test,descs_2_man)\n",
    "method_2_scores.to_csv('Data_files/For_plotting/method_2_scores.csv')\n",
    "method_2_scores"
   ]
  },
  {
   "cell_type": "code",
   "execution_count": 20,
   "id": "9b786eb6",
   "metadata": {},
   "outputs": [],
   "source": [
    "# Output model using pickle\n",
    "\n",
    "descs = descs_2_man[4]\n",
    "\n",
    "clf = LogisticRegression(solver='liblinear', multi_class='ovr',class_weight='balanced')\n",
    "clf.fit(x[descs],y)\n",
    "\n",
    "# output fit best model\n",
    "pickle.dump(clf, open(\"Data_files/prelim_best_model.p\", \"wb\"))\n",
    "\n",
    "# output descriptors in best model\n",
    "pickle.dump(descs, open(\"Data_files/prelim_best_features.p\",\"wb\"))\n",
    "\n",
    "# output feature scaler\n",
    "pickle.dump(scaler, open(\"Data_files/prelim_scaler.p\",\"wb\"))\n",
    "\n",
    "# output training set\n",
    "pickle.dump(X, open(\"Data_files/prelim_X.p\",\"wb\"))\n",
    "\n",
    "# output full data set\n",
    "pickle.dump(data,open(\"Data_files/prelim_data.p\",\"wb\"))"
   ]
  }
 ],
 "metadata": {
  "kernelspec": {
   "display_name": "Python [conda env:my-rdkit-env] *",
   "language": "python",
   "name": "conda-env-my-rdkit-env-py"
  },
  "language_info": {
   "codemirror_mode": {
    "name": "ipython",
    "version": 3
   },
   "file_extension": ".py",
   "mimetype": "text/x-python",
   "name": "python",
   "nbconvert_exporter": "python",
   "pygments_lexer": "ipython3",
   "version": "3.7.11"
  }
 },
 "nbformat": 4,
 "nbformat_minor": 5
}
