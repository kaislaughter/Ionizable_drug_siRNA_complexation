{
 "cells": [
  {
   "cell_type": "markdown",
   "id": "6adb8d47",
   "metadata": {},
   "source": [
    "# Dependencies"
   ]
  },
  {
   "cell_type": "code",
   "execution_count": 26,
   "id": "07db95bc",
   "metadata": {},
   "outputs": [],
   "source": [
    "import pandas as pd\n",
    "import numpy as np\n",
    "from matplotlib import pyplot as plt\n",
    "\n",
    "from sklearn import preprocessing\n",
    "from sklearn.feature_selection import VarianceThreshold\n",
    "\n",
    "\n",
    "from sklearn.model_selection import cross_val_score\n",
    "from sklearn.model_selection import StratifiedKFold\n",
    "\n",
    "from sklearn.linear_model import LogisticRegression\n",
    "from sklearn.tree import DecisionTreeClassifier\n",
    "from sklearn.neighbors import KNeighborsClassifier\n",
    "from sklearn.discriminant_analysis import LinearDiscriminantAnalysis\n",
    "from sklearn.naive_bayes import GaussianNB\n",
    "from sklearn.svm import SVC\n",
    "from sklearn.ensemble import GradientBoostingClassifier\n",
    "from sklearn.neural_network import MLPClassifier\n",
    "from sklearn.ensemble import RandomForestClassifier\n",
    "\n",
    "from sklearn.metrics import confusion_matrix, ConfusionMatrixDisplay\n",
    "from sklearn.metrics import balanced_accuracy_score\n",
    "from sklearn.feature_selection import RFE\n",
    "from sklearn.feature_selection import RFECV\n",
    "\n",
    "#from IPython.display import display, clear_output\n",
    "\n",
    "#import pickle\n",
    "\n",
    "#import random\n",
    "\n",
    "#from itertools import combinations"
   ]
  },
  {
   "cell_type": "markdown",
   "id": "9b077bc3",
   "metadata": {},
   "source": [
    "# Functions"
   ]
  },
  {
   "cell_type": "code",
   "execution_count": 72,
   "id": "46c4fa11",
   "metadata": {},
   "outputs": [],
   "source": [
    "# function to run recursive feature elimination and output the reduced feature set\n",
    "# function takes model input features (X_in), model output (y_in), number of features (N), \n",
    "# type of feature elimination (RFE or RFECV, sel) and verbosity (verb)\n",
    "def feat_red(clf,X_in,y_in,N,sel,verb):\n",
    "    estimator = clf\n",
    "    if sel == 'RFECV':\n",
    "        selector = RFECV(estimator, min_features_to_select=N, step=1,verbose=verb, cv = 3)\n",
    "    else:\n",
    "        selector = RFE(estimator,n_features_to_select=N,step=1,verbose=verb)\n",
    "    selector = selector.fit(X_in,y_in)\n",
    "    feat_out = selector.get_feature_names_out(X_in.columns)\n",
    "    return feat_out\n",
    "\n",
    "# runs feat_red function for all numbers of features in array N for input X (features) and y (model output)\n",
    "# returns an array of feature sets for all specified N\n",
    "def multi_feat_red(clf,X_in,Y_in,N,sel):\n",
    "    feat_r = {}\n",
    "    feat_r[0] = X_in.columns\n",
    "    j=1\n",
    "    for i in N:\n",
    "        feat_r[j]= feat_red(clf,X_in[feat_r[j-1]],Y_in,i,sel,0)\n",
    "        j=j+1\n",
    "    return feat_r\n",
    "\n",
    "# function to compare binary classification methods for input training X and Y arrays\n",
    "def comp_bin(X_train,Y_train):\n",
    "    \n",
    "    print('   Balanced accuracy (SD)')\n",
    "    # List of algorithms to test\n",
    "    models = []\n",
    "    models.append(('LR', LogisticRegression(solver='liblinear', multi_class='ovr', class_weight='balanced')))\n",
    "    models.append(('LDA', LinearDiscriminantAnalysis()))\n",
    "    models.append(('KNN', KNeighborsClassifier()))\n",
    "    models.append(('DT', DecisionTreeClassifier(class_weight='balanced')))\n",
    "    models.append(('NB', GaussianNB()))\n",
    "    models.append(('SVM', SVC(gamma='auto',class_weight='balanced')))\n",
    "    models.append(('MLP', MLPClassifier(max_iter=1000)))\n",
    "    models.append(('GB',GradientBoostingClassifier(random_state=0)))\n",
    "    models.append(('RF',RandomForestClassifier(class_weight='balanced',random_state=0)))\n",
    "    \n",
    "    # Evaluate each model with 10-fold cross validation\n",
    "    results = []\n",
    "    names = []\n",
    "    for name, model in models:\n",
    "        kfold = StratifiedKFold(n_splits=10, random_state=1, shuffle=True)\n",
    "        cv_results = cross_val_score(model, X_train, Y_train, cv=kfold, scoring='balanced_accuracy')\n",
    "        results.append(cv_results)\n",
    "        names.append(name)\n",
    "        print('%5s: %f (%f)' % (name, cv_results.mean(), cv_results.std()))\n",
    "        \n",
    "    # Compare classification algorithms\n",
    "    plt.boxplot(results, labels=names)\n",
    "    plt.title('Classification Algorithm Comparison')\n",
    "    plt.ylabel('Balanced accuracy')\n",
    "    plt.ylim((0,1))\n",
    "    plt.show()\n",
    "    \n",
    "    return results\n",
    "\n",
    "# Testing a classifier with fit to X,Y with output of a confusion matrix and balanced accuracy score\n",
    "def cm_test(clf,X,Y):\n",
    "    clf.fit(X,Y)\n",
    "    predictions = clf.predict(X)\n",
    "    cm = confusion_matrix(Y, predictions, labels=clf.classes_)\n",
    "    disp = ConfusionMatrixDisplay(confusion_matrix=cm,display_labels=clf.classes_)\n",
    "    disp.plot()\n",
    "    plt.show()\n",
    "    print(\"Balanced accuracy: \",balanced_accuracy_score(Y,clf.predict(X)))\n",
    "    \n",
    "# Comparison of feature sets (feat_r) using stratified 10-fold cross validation for a selected classifier (clf)\n",
    "def feat_comp(clf,feat_r,X_train,Y_train,N_max):\n",
    "    \n",
    "    # output headers\n",
    "    print('           Balanced accuracy')\n",
    "    print(' i     N    Mean      (SD)')\n",
    "    \n",
    "    # defining array for results\n",
    "    results = []\n",
    "    \n",
    "    for i in feat_r:\n",
    "        \n",
    "        # selecting columns from X_train corresponding to each feature set\n",
    "        X_train2 = X_train[feat_r[i]]\n",
    "        \n",
    "        # finding balanced accuracy scores for stratified 10-fold cross validation \n",
    "        kfold = StratifiedKFold(n_splits=10, random_state=1, shuffle=True)\n",
    "        cv_results = cross_val_score(clf, X_train2, Y_train, cv=kfold, scoring='balanced_accuracy')\n",
    "        results.append(cv_results)\n",
    "        \n",
    "        # output results for each feature set\n",
    "        print('%2i: %5i %f (%f)' % (i, feat_r[i].shape[0], cv_results.mean(), cv_results.std()))\n",
    "\n",
    "    # calculating mean and standard deviation for scores\n",
    "    scores = [score.mean() for score in results]\n",
    "    stdevs = [score.std() for score in results]\n",
    "    \n",
    "    \n",
    "    scores_rev = scores[::-1]\n",
    "    \n",
    "    \n",
    "    plt.scatter([N_max]+N,scores)\n",
    "    plt.ylabel('Balanced Accuracy')\n",
    "    plt.xlabel('Number of features')\n",
    "    \n",
    "    return len(scores_rev) - np.argmax(scores_rev) - 2, scores, stdevs\n",
    "\n",
    "def best_desc_comb(desc_rank,freq_thresh,n_desc,x_train,y_train,x_test,y_test):\n",
    "    \n",
    "    desc_rank_thresh = desc_rank[counts>freq_thresh]\n",
    "\n",
    "    desc_comb =[]\n",
    "    for comb in combinations(desc_rank_thresh,n_desc):\n",
    "        desc_comb.append(comb)\n",
    "    \n",
    "    scores = []\n",
    "    scores_test = []\n",
    "    counter = 0\n",
    "    for descs in desc_comb:\n",
    "        X_train2 = x_train[list(descs)]\n",
    "        X_test2 = x_test[list(descs)]\n",
    "        clf = LogisticRegression(solver='liblinear', multi_class='ovr',class_weight='balanced')\n",
    "        clf.fit(X_train2,y_train)\n",
    "        predictions = clf.predict(X_train2)\n",
    "        scores.append(balanced_accuracy_score(y_train,clf.predict(X_train2)))\n",
    "        scores_test.append(balanced_accuracy_score(y_test,clf.predict(X_test2)))\n",
    "        counter = counter + 1\n",
    "        clear_output(wait=True)\n",
    "        display(str(counter)+'/'+str(len(desc_comb)))\n",
    "    print('Maximum score of:',max(scores),' for ',desc_comb[np.argmax(scores)],' with test score of: ',scores_test[np.argmax(scores)])\n",
    "    best_comb = list(desc_comb[np.argmax(scores)])\n",
    "    \n",
    "    return best_comb, max(scores), scores_test[np.argmax(scores)], desc_comb, scores"
   ]
  },
  {
   "cell_type": "markdown",
   "id": "d115d089",
   "metadata": {},
   "source": [
    "# Data Import"
   ]
  },
  {
   "cell_type": "code",
   "execution_count": 87,
   "id": "7cbd15b8",
   "metadata": {},
   "outputs": [],
   "source": [
    "# import data on RG fluorescence\n",
    "corr_matrix = X_reduced.corr().abs()\n",
    "\n",
    "# Select upper triangle of correlation matrix\n",
    "upper = corr_matrix.where(np.triu(np.ones(corr_matrix.shape), k=1).astype(bool))\n",
    "\n",
    "# Find features with correlation greater than 0.95\n",
    "to_drop = [column for column in upper.columns if any(upper[column] > 0.95)]"
   ]
  },
  {
   "cell_type": "code",
   "execution_count": 93,
   "id": "5c6faef2",
   "metadata": {},
   "outputs": [],
   "source": [
    "# import data on RG fluorescence\n",
    "data = pd.read_csv('Data_files/RG_for_ML.csv')\n",
    " \n",
    "# Remove features with variance below threshold or correlated to each other\n",
    "\n",
    "# Threshold for variance\n",
    "threshold = 0;\n",
    "X = data.drop(['RG','Group','cb_pKa'],axis=1).select_dtypes(include='number');\n",
    "\n",
    "scaler = preprocessing.MinMaxScaler()\n",
    "\n",
    "X_scaled = X.copy()\n",
    "X_scaled[X.columns] = scaler.fit_transform(X[X.columns])\n",
    "\n",
    "selector = VarianceThreshold(threshold)\n",
    "selector.fit(X)\n",
    "X_reduced = X_scaled[X_scaled.columns[selector.get_support(indices=True)]]\n",
    "\n",
    "# Correlation matrix\n",
    "corr_matrix = X_reduced.corr().abs()\n",
    "\n",
    "# Select upper triangle of correlation matrix\n",
    "upper = corr_matrix.where(np.triu(np.ones(corr_matrix.shape), k=1).astype(bool))\n",
    "\n",
    "# Find features with correlation greater than 0.95\n",
    "to_drop = [column for column in upper.columns if any(upper[column] > 0.95)]\n",
    "\n",
    "# Drop features \n",
    "X_reduced = X_reduced.drop(to_drop, axis=1)\n",
    "\n",
    "Y = data['RG_binary']"
   ]
  },
  {
   "cell_type": "code",
   "execution_count": 94,
   "id": "4313053f",
   "metadata": {},
   "outputs": [],
   "source": [
    "x=X_reduced\n",
    "y=Y"
   ]
  },
  {
   "cell_type": "markdown",
   "id": "7a4fe4ff",
   "metadata": {},
   "source": [
    "# Compare binary classification methods"
   ]
  },
  {
   "cell_type": "code",
   "execution_count": 95,
   "id": "dc6db81c",
   "metadata": {},
   "outputs": [
    {
     "name": "stdout",
     "output_type": "stream",
     "text": [
      "   Balanced accuracy (SD)\n",
      "   LR: 0.681410 (0.147806)\n",
      "  LDA: 0.552244 (0.147304)\n",
      "  KNN: 0.709295 (0.154193)\n",
      "   DT: 0.523718 (0.183042)\n",
      "   NB: 0.517308 (0.116353)\n",
      "  SVM: 0.695192 (0.194398)\n",
      "  MLP: 0.555449 (0.112828)\n",
      "   GB: 0.672756 (0.202185)\n",
      "   RF: 0.542308 (0.104909)\n"
     ]
    },
    {
     "data": {
      "image/png": "[encoded data removed]",
      "text/plain": [
       "<Figure size 432x288 with 1 Axes>"
      ]
     },
     "metadata": {
      "needs_background": "light"
     },
     "output_type": "display_data"
    }
   ],
   "source": [
    "comp_bin_results = comp_bin(x,y)"
   ]
  },
  {
   "cell_type": "code",
   "execution_count": 96,
   "id": "e4c99355",
   "metadata": {},
   "outputs": [],
   "source": [
    "comp_bin_df = pd.DataFrame(comp_bin_results)\n",
    "comp_bin_df.to_csv('Data_files/For_plotting/model1_classification_method_comparison.csv')"
   ]
  },
  {
   "cell_type": "markdown",
   "id": "a4f35936",
   "metadata": {},
   "source": [
    "# Run chosen classification method using all molecular descriptors"
   ]
  },
  {
   "cell_type": "code",
   "execution_count": 97,
   "id": "96ecf971",
   "metadata": {},
   "outputs": [
    {
     "data": {
      "image/png": "[encoded data removed]",
      "text/plain": [
       "<Figure size 432x288 with 2 Axes>"
      ]
     },
     "metadata": {
      "needs_background": "light"
     },
     "output_type": "display_data"
    },
    {
     "name": "stdout",
     "output_type": "stream",
     "text": [
      "Balanced accuracy:  0.9959677419354839\n"
     ]
    }
   ],
   "source": [
    "clf = LogisticRegression(solver='liblinear', multi_class='ovr',class_weight='balanced')\n",
    "cm_test(clf,x,y)"
   ]
  },
  {
   "cell_type": "markdown",
   "id": "0282caec",
   "metadata": {},
   "source": [
    "# Recursive feature elimination for selected models"
   ]
  },
  {
   "cell_type": "code",
   "execution_count": 98,
   "id": "95ecf566",
   "metadata": {},
   "outputs": [],
   "source": [
    "# defining array of number of features to test\n",
    "N = [1000,500,200,100,50,20,15,10,9,8,7,6,5,4,3,2,1]\n",
    "N_out = N.copy()\n",
    "N_out.insert(0,len(x.columns))"
   ]
  },
  {
   "cell_type": "code",
   "execution_count": 99,
   "id": "1499e017",
   "metadata": {},
   "outputs": [
    {
     "name": "stdout",
     "output_type": "stream",
     "text": [
      "           Balanced accuracy\n",
      " i     N    Mean      (SD)\n",
      " 0:  1784 0.681410 (0.147806)\n",
      " 1:  1000 0.764744 (0.177601)\n",
      " 2:   500 0.848077 (0.195635)\n",
      " 3:   200 0.876923 (0.177549)\n",
      " 4:   100 0.901603 (0.174555)\n",
      " 5:    50 0.901923 (0.186935)\n",
      " 6:    20 0.889423 (0.182221)\n",
      " 7:    15 0.889423 (0.182221)\n",
      " 8:    10 0.935897 (0.075779)\n",
      " 9:     9 0.911218 (0.061084)\n",
      "10:     8 0.915385 (0.062712)\n",
      "11:     7 0.848718 (0.163793)\n",
      "12:     6 0.886538 (0.064154)\n",
      "13:     5 0.882051 (0.066491)\n",
      "14:     4 0.886538 (0.067189)\n",
      "15:     3 0.870513 (0.061522)\n",
      "16:     2 0.883013 (0.083754)\n",
      "17:     1 0.850000 (0.087996)\n",
      "\n",
      " Best number of descriptors =  10\n"
     ]
    },
    {
     "data": {
      "image/png": "[encoded data removed]",
      "text/plain": [
       "<Figure size 432x288 with 1 Axes>"
      ]
     },
     "metadata": {
      "needs_background": "light"
     },
     "output_type": "display_data"
    },
    {
     "data": {
      "image/png": "[encoded data removed]",
      "text/plain": [
       "<Figure size 432x288 with 2 Axes>"
      ]
     },
     "metadata": {
      "needs_background": "light"
     },
     "output_type": "display_data"
    },
    {
     "name": "stdout",
     "output_type": "stream",
     "text": [
      "Balanced accuracy:  0.9637096774193548\n"
     ]
    }
   ],
   "source": [
    "# Logistic regression\n",
    "clf = LogisticRegression(solver='liblinear', multi_class='ovr', class_weight='balanced', max_iter=1000)\n",
    "\n",
    "# determine features for each number defined in N\n",
    "feat_r = multi_feat_red(clf,x,y,N,'RFE')\n",
    "\n",
    "# determine scores for each set of features\n",
    "N_best,scores,stdevs = feat_comp(clf,feat_r,x,y,len(x.columns))\n",
    "\n",
    "print('\\n Best number of descriptors = ',N[N_best])\n",
    "\n",
    "# show confusion matrix for best number of descriptors\n",
    "cm_test(clf,x[feat_r[N_best]],y)\n",
    "\n",
    "# output scores to data file\n",
    "LR_scores = pd.DataFrame({'N':N_out,'Scores':scores,'SD':stdevs})\n",
    "LR_scores.to_csv('Data_files/For_plotting/model1_LR_scores.csv')"
   ]
  },
  {
   "cell_type": "code",
   "execution_count": 100,
   "id": "9191d2c5",
   "metadata": {},
   "outputs": [
    {
     "name": "stdout",
     "output_type": "stream",
     "text": [
      "           Balanced accuracy\n",
      " i     N    Mean      (SD)\n",
      " 0:  1784 0.552244 (0.147304)\n",
      " 1:  1000 0.713462 (0.184946)\n",
      " 2:   500 0.729808 (0.113618)\n",
      " 3:   200 0.706410 (0.148886)\n",
      " 4:   100 0.809295 (0.173919)\n",
      " 5:    50 0.842308 (0.171100)\n",
      " 6:    20 0.734295 (0.159282)\n",
      " 7:    15 0.713141 (0.185750)\n",
      " 8:    10 0.663141 (0.202032)\n",
      " 9:     9 0.667308 (0.203347)\n",
      "10:     8 0.667308 (0.203347)\n",
      "11:     7 0.667308 (0.203347)\n",
      "12:     6 0.667308 (0.203347)\n",
      "13:     5 0.667308 (0.203347)\n",
      "14:     4 0.567308 (0.120480)\n",
      "15:     3 0.567308 (0.120480)\n",
      "16:     2 0.567308 (0.120480)\n",
      "17:     1 0.567308 (0.120480)\n",
      "\n",
      " Best number of descriptors =  50\n"
     ]
    },
    {
     "data": {
      "image/png": "[encoded data removed]",
      "text/plain": [
       "<Figure size 432x288 with 1 Axes>"
      ]
     },
     "metadata": {
      "needs_background": "light"
     },
     "output_type": "display_data"
    },
    {
     "data": {
      "image/png": "[encoded data removed]",
      "text/plain": [
       "<Figure size 432x288 with 2 Axes>"
      ]
     },
     "metadata": {
      "needs_background": "light"
     },
     "output_type": "display_data"
    },
    {
     "name": "stdout",
     "output_type": "stream",
     "text": [
      "Balanced accuracy:  1.0\n"
     ]
    }
   ],
   "source": [
    "# Linear Discriminant Analysis\n",
    "clf = LinearDiscriminantAnalysis()\n",
    "\n",
    "# determine features for each number defined in N\n",
    "feat_r = multi_feat_red(clf,x,y,N,'RFE')\n",
    "\n",
    "# determine scores for each set of features\n",
    "N_best,scores,stdevs = feat_comp(clf,feat_r,x,y,len(x.columns))\n",
    "\n",
    "print('\\n Best number of descriptors = ',N[N_best])\n",
    "\n",
    "# show confusion matrix for best number of descriptors\n",
    "cm_test(clf,x[feat_r[N_best]],y)\n",
    "\n",
    "# output scores to data file\n",
    "LDA_scores = pd.DataFrame({'N':N_out,'Scores':scores,'SD':stdevs})\n",
    "LDA_scores.to_csv('Data_files/For_plotting/model1_LDA_scores.csv')"
   ]
  },
  {
   "cell_type": "code",
   "execution_count": 101,
   "id": "e3307cb1",
   "metadata": {},
   "outputs": [
    {
     "name": "stdout",
     "output_type": "stream",
     "text": [
      "           Balanced accuracy\n",
      " i     N    Mean      (SD)\n",
      " 0:  1784 0.614744 (0.224683)\n",
      " 1:  1000 0.590064 (0.202185)\n",
      " 2:   500 0.527564 (0.144204)\n",
      " 3:   200 0.598397 (0.247352)\n",
      " 4:   100 0.614423 (0.187969)\n",
      " 5:    50 0.834295 (0.176486)\n",
      " 6:    20 0.859295 (0.169445)\n",
      " 7:    15 0.863462 (0.172317)\n",
      " 8:    10 0.867308 (0.174025)\n",
      " 9:     9 0.867308 (0.174025)\n",
      "10:     8 0.867308 (0.174025)\n",
      "11:     7 0.867308 (0.174025)\n",
      "12:     6 0.842308 (0.204390)\n",
      "13:     5 0.838141 (0.201537)\n",
      "14:     4 0.804487 (0.241820)\n",
      "15:     3 0.804808 (0.241257)\n",
      "16:     2 0.718269 (0.216171)\n",
      "17:     1 0.735256 (0.214107)\n",
      "\n",
      " Best number of descriptors =  7\n"
     ]
    },
    {
     "data": {
      "image/png": "[encoded data removed]",
      "text/plain": [
       "<Figure size 432x288 with 1 Axes>"
      ]
     },
     "metadata": {
      "needs_background": "light"
     },
     "output_type": "display_data"
    },
    {
     "data": {
      "image/png": "[encoded data removed]",
      "text/plain": [
       "<Figure size 432x288 with 2 Axes>"
      ]
     },
     "metadata": {
      "needs_background": "light"
     },
     "output_type": "display_data"
    },
    {
     "name": "stdout",
     "output_type": "stream",
     "text": [
      "Balanced accuracy:  1.0\n"
     ]
    }
   ],
   "source": [
    "# Decision Tree\n",
    "clf = DecisionTreeClassifier(class_weight='balanced')\n",
    "\n",
    "# determine features for each number defined in N\n",
    "feat_r = multi_feat_red(clf,x,y,N,'RFE')\n",
    "\n",
    "# determine scores for each set of features\n",
    "N_best,scores,stdevs = feat_comp(clf,feat_r,x,y,len(x.columns))\n",
    "\n",
    "print('\\n Best number of descriptors = ',N[N_best])\n",
    "\n",
    "# show confusion matrix for best number of descriptors\n",
    "cm_test(clf,x[feat_r[N_best]],y)\n",
    "\n",
    "# output scores to data file\n",
    "DT_scores = pd.DataFrame({'N':N_out,'Scores':scores,'SD':stdevs})\n",
    "DT_scores.to_csv('Data_files/For_plotting/model1_DT_scores.csv')"
   ]
  },
  {
   "cell_type": "code",
   "execution_count": 229,
   "id": "b8d40cf9",
   "metadata": {},
   "outputs": [
    {
     "name": "stdout",
     "output_type": "stream",
     "text": [
      "           Balanced accuracy\n",
      " i     N    Mean      (SD)\n",
      " 0:  1784 0.643590 (0.204806)\n",
      " 1:  1000 0.693269 (0.224080)\n",
      " 2:   500 0.747756 (0.186604)\n",
      " 3:   200 0.788462 (0.206227)\n",
      " 4:   100 0.892308 (0.124985)\n",
      " 5:    50 0.871154 (0.165217)\n",
      " 6:    20 0.896154 (0.119850)\n",
      " 7:    15 0.896154 (0.119850)\n",
      " 8:    10 0.896154 (0.119850)\n",
      " 9:     9 0.896154 (0.119850)\n",
      "10:     8 0.892308 (0.124985)\n",
      "11:     7 0.896154 (0.119850)\n",
      "12:     6 0.896154 (0.119850)\n",
      "13:     5 0.896154 (0.119850)\n",
      "14:     4 0.896154 (0.119850)\n",
      "15:     3 0.772436 (0.155896)\n",
      "16:     2 0.747115 (0.172759)\n",
      "17:     1 0.615705 (0.146116)\n",
      "\n",
      " Best number of descriptors =  4\n"
     ]
    },
    {
     "data": {
      "image/png": "[encoded data removed]",
      "text/plain": [
       "<Figure size 432x288 with 1 Axes>"
      ]
     },
     "metadata": {
      "needs_background": "light"
     },
     "output_type": "display_data"
    },
    {
     "data": {
      "image/png": "[encoded data removed]",
      "text/plain": [
       "<Figure size 432x288 with 2 Axes>"
      ]
     },
     "metadata": {
      "needs_background": "light"
     },
     "output_type": "display_data"
    },
    {
     "name": "stdout",
     "output_type": "stream",
     "text": [
      "Balanced accuracy:  1.0\n"
     ]
    }
   ],
   "source": [
    "# Gradient Boosting\n",
    "clf = GradientBoostingClassifier()\n",
    "\n",
    "# determine features for each number defined in N\n",
    "feat_r = multi_feat_red(clf,x,y,N,'RFE')\n",
    "\n",
    "# determine scores for each set of features\n",
    "N_best,scores,stdevs = feat_comp(clf,feat_r,x,y,len(x.columns))\n",
    "\n",
    "print('\\n Best number of descriptors = ',N[N_best])\n",
    "\n",
    "# show confusion matrix for best number of descriptors\n",
    "cm_test(clf,x[feat_r[N_best]],y)\n",
    "\n",
    "# output scores to data file\n",
    "GB_scores = pd.DataFrame({'N':N_out,'Scores':scores,'SD':stdevs})\n",
    "GB_scores.to_csv('Data_files/For_plotting/model1_GB_scores.csv')"
   ]
  },
  {
   "cell_type": "code",
   "execution_count": 230,
   "id": "dd72478c",
   "metadata": {},
   "outputs": [
    {
     "name": "stdout",
     "output_type": "stream",
     "text": [
      "           Balanced accuracy\n",
      " i     N    Mean      (SD)\n",
      " 0:  1784 0.545833 (0.102825)\n",
      " 1:  1000 0.546154 (0.102556)\n",
      " 2:   500 0.546154 (0.102556)\n",
      " 3:   200 0.567308 (0.120480)\n",
      " 4:   100 0.538462 (0.108445)\n",
      " 5:    50 0.667308 (0.192893)\n",
      " 6:    20 0.633974 (0.213404)\n",
      " 7:    15 0.687821 (0.230360)\n",
      " 8:    10 0.634295 (0.239963)\n",
      " 9:     9 0.659295 (0.209744)\n",
      "10:     8 0.647115 (0.211414)\n",
      "11:     7 0.546795 (0.175618)\n",
      "12:     6 0.596795 (0.172951)\n",
      "13:     5 0.625962 (0.183461)\n",
      "14:     4 0.604808 (0.179281)\n",
      "15:     3 0.604808 (0.173374)\n",
      "16:     2 0.647436 (0.191917)\n",
      "17:     1 0.739423 (0.213948)\n",
      "\n",
      " Best number of descriptors =  1\n"
     ]
    },
    {
     "data": {
      "image/png": "[encoded data removed]",
      "text/plain": [
       "<Figure size 432x288 with 1 Axes>"
      ]
     },
     "metadata": {
      "needs_background": "light"
     },
     "output_type": "display_data"
    },
    {
     "data": {
      "image/png": "[encoded data removed]",
      "text/plain": [
       "<Figure size 432x288 with 2 Axes>"
      ]
     },
     "metadata": {
      "needs_background": "light"
     },
     "output_type": "display_data"
    },
    {
     "name": "stdout",
     "output_type": "stream",
     "text": [
      "Balanced accuracy:  1.0\n"
     ]
    }
   ],
   "source": [
    "# Random Forest\n",
    "clf = RandomForestClassifier(class_weight='balanced')\n",
    "\n",
    "# determine features for each number defined in N\n",
    "feat_r = multi_feat_red(clf,x,y,N,'RFE')\n",
    "\n",
    "# determine scores for each set of features\n",
    "N_best,scores,stdevs = feat_comp(clf,feat_r,x,y,len(x.columns))\n",
    "\n",
    "print('\\n Best number of descriptors = ',N[N_best])\n",
    "\n",
    "# show confusion matrix for best number of descriptors\n",
    "cm_test(clf,x[feat_r[N_best]],y)\n",
    "\n",
    "# output scores to data file\n",
    "RF_scores = pd.DataFrame({'N':N_out,'Scores':scores,'SD':stdevs})\n",
    "RF_scores.to_csv('Data_files/For_plotting/model1_RF_scores.csv')"
   ]
  },
  {
   "cell_type": "markdown",
   "id": "d432651f",
   "metadata": {},
   "source": [
    "# Evaluating best model obtained through RFE with test compounds"
   ]
  },
  {
   "cell_type": "code",
   "execution_count": 231,
   "id": "f1c1a3d9",
   "metadata": {},
   "outputs": [],
   "source": [
    "# Logistic regression\n",
    "clf = LogisticRegression(solver='liblinear', multi_class='ovr', class_weight='balanced', max_iter=1000)\n",
    "\n",
    "# determine features for each number defined in N\n",
    "feat_r = multi_feat_red(clf,x,y,N,'RFE')\n",
    "\n",
    "# using best N from above\n",
    "N_best = 8"
   ]
  },
  {
   "cell_type": "code",
   "execution_count": 232,
   "id": "b6d5c8e6",
   "metadata": {},
   "outputs": [
    {
     "data": {
      "image/png": "[encoded data removed]",
      "text/plain": [
       "<Figure size 432x288 with 2 Axes>"
      ]
     },
     "metadata": {
      "needs_background": "light"
     },
     "output_type": "display_data"
    },
    {
     "name": "stdout",
     "output_type": "stream",
     "text": [
      "Balanced accuracy: 0.33125\n"
     ]
    }
   ],
   "source": [
    "clf = LogisticRegression(solver='liblinear', multi_class='ovr', class_weight='balanced', max_iter=1000)\n",
    "clf.fit(x[feat_r[N_best]],y)\n",
    "\n",
    "test_molecules = pd.read_csv('Data_files/descriptors_test_compounds.csv')\n",
    "\n",
    "X_test = test_molecules\n",
    "\n",
    "X_test[X.columns] = scaler.transform(X_test[X.columns])\n",
    "Y_test = test_molecules['siRNA complexing']\n",
    "\n",
    "Y_pred = clf.predict(X_test[feat_r[N_best]])\n",
    "\n",
    "cm = confusion_matrix(Y_test, Y_pred, labels=clf.classes_)\n",
    "disp = ConfusionMatrixDisplay(confusion_matrix=cm,display_labels=clf.classes_)\n",
    "disp.plot()\n",
    "\n",
    "plt.show()\n",
    "print('Balanced accuracy:', balanced_accuracy_score(Y_test,Y_pred))"
   ]
  },
  {
   "cell_type": "markdown",
   "id": "f2dd3148",
   "metadata": {},
   "source": [
    "# Alternative descriptor selection method"
   ]
  },
  {
   "cell_type": "code",
   "execution_count": 233,
   "id": "33c7ef4d",
   "metadata": {},
   "outputs": [
    {
     "data": {
      "image/png": "[encoded data removed]",
      "text/plain": [
       "<Figure size 432x288 with 2 Axes>"
      ]
     },
     "metadata": {
      "needs_background": "light"
     },
     "output_type": "display_data"
    },
    {
     "name": "stdout",
     "output_type": "stream",
     "text": [
      "0.76875\n"
     ]
    }
   ],
   "source": [
    "desc_sel = best5\n",
    "clf.fit(x[desc_sel],y)\n",
    "Y_pred = clf.predict(X_test[desc_sel])\n",
    "cm = confusion_matrix(Y_test, Y_pred, labels=clf.classes_)\n",
    "disp = ConfusionMatrixDisplay(confusion_matrix=cm,display_labels=clf.classes_)\n",
    "disp.plot()\n",
    "\n",
    "plt.show()\n",
    "print(balanced_accuracy_score(Y_test,Y_pred))\n"
   ]
  },
  {
   "cell_type": "code",
   "execution_count": 236,
   "id": "2c761e7c",
   "metadata": {},
   "outputs": [
    {
     "ename": "ValueError",
     "evalue": "Expected 2D array, got 1D array instead:\narray=[ True  True  True  True  True  True  True  True  True  True  True  True\n  True  True  True  True  True  True False False False False False False\n False False False False False False False False False False False False].\nReshape your data either using array.reshape(-1, 1) if your data has a single feature or array.reshape(1, -1) if it contains a single sample.",
     "output_type": "error",
     "traceback": [
      "\u001b[0;31m---------------------------------------------------------------------------\u001b[0m",
      "\u001b[0;31mValueError\u001b[0m                                Traceback (most recent call last)",
      "\u001b[0;32m/var/folders/gb/lk5ckc2n4sq0ml1d8wm6k8gm0000gn/T/ipykernel_14445/2095348566.py\u001b[0m in \u001b[0;36m<module>\u001b[0;34m\u001b[0m\n\u001b[1;32m      7\u001b[0m     \u001b[0mY2\u001b[0m \u001b[0;34m=\u001b[0m \u001b[0mpd\u001b[0m\u001b[0;34m.\u001b[0m\u001b[0mconcat\u001b[0m\u001b[0;34m(\u001b[0m\u001b[0;34m[\u001b[0m\u001b[0my\u001b[0m\u001b[0;34m[\u001b[0m\u001b[0my\u001b[0m\u001b[0;34m==\u001b[0m\u001b[0;32mTrue\u001b[0m\u001b[0;34m]\u001b[0m\u001b[0;34m,\u001b[0m\u001b[0my\u001b[0m\u001b[0;34m[\u001b[0m\u001b[0mindices\u001b[0m\u001b[0;34m]\u001b[0m\u001b[0;34m]\u001b[0m\u001b[0;34m)\u001b[0m\u001b[0;34m\u001b[0m\u001b[0;34m\u001b[0m\u001b[0m\n\u001b[1;32m      8\u001b[0m     \u001b[0mclf\u001b[0m\u001b[0;34m.\u001b[0m\u001b[0mfit\u001b[0m\u001b[0;34m(\u001b[0m\u001b[0mX2\u001b[0m\u001b[0;34m,\u001b[0m\u001b[0mY2\u001b[0m\u001b[0;34m)\u001b[0m\u001b[0;34m\u001b[0m\u001b[0;34m\u001b[0m\u001b[0m\n\u001b[0;32m----> 9\u001b[0;31m     \u001b[0mfeat_r\u001b[0m\u001b[0;34m.\u001b[0m\u001b[0mappend\u001b[0m\u001b[0;34m(\u001b[0m\u001b[0mfeat_red\u001b[0m\u001b[0;34m(\u001b[0m\u001b[0mX2\u001b[0m\u001b[0;34m,\u001b[0m\u001b[0mY2\u001b[0m\u001b[0;34m,\u001b[0m\u001b[0;36m10\u001b[0m\u001b[0;34m,\u001b[0m\u001b[0;34m'RFE'\u001b[0m\u001b[0;34m,\u001b[0m\u001b[0;36m0\u001b[0m\u001b[0;34m,\u001b[0m\u001b[0;36m0\u001b[0m\u001b[0;34m)\u001b[0m\u001b[0;34m)\u001b[0m\u001b[0;34m\u001b[0m\u001b[0;34m\u001b[0m\u001b[0m\n\u001b[0m\u001b[1;32m     10\u001b[0m     \u001b[0mclf\u001b[0m\u001b[0;34m.\u001b[0m\u001b[0mfit\u001b[0m\u001b[0;34m(\u001b[0m\u001b[0mX2\u001b[0m\u001b[0;34m[\u001b[0m\u001b[0mfeat_r\u001b[0m\u001b[0;34m[\u001b[0m\u001b[0mi\u001b[0m\u001b[0;34m]\u001b[0m\u001b[0;34m]\u001b[0m\u001b[0;34m,\u001b[0m\u001b[0mY2\u001b[0m\u001b[0;34m)\u001b[0m\u001b[0;34m\u001b[0m\u001b[0;34m\u001b[0m\u001b[0m\n\u001b[1;32m     11\u001b[0m     \u001b[0mcm_test\u001b[0m\u001b[0;34m(\u001b[0m\u001b[0mclf\u001b[0m\u001b[0;34m,\u001b[0m\u001b[0mX2\u001b[0m\u001b[0;34m[\u001b[0m\u001b[0mfeat_r\u001b[0m\u001b[0;34m[\u001b[0m\u001b[0mi\u001b[0m\u001b[0;34m]\u001b[0m\u001b[0;34m]\u001b[0m\u001b[0;34m,\u001b[0m\u001b[0mY2\u001b[0m\u001b[0;34m)\u001b[0m\u001b[0;34m\u001b[0m\u001b[0;34m\u001b[0m\u001b[0m\n",
      "\u001b[0;32m/var/folders/gb/lk5ckc2n4sq0ml1d8wm6k8gm0000gn/T/ipykernel_14445/1264195116.py\u001b[0m in \u001b[0;36mfeat_red\u001b[0;34m(clf, X_in, y_in, N, sel, verb)\u001b[0m\n\u001b[1;32m      8\u001b[0m     \u001b[0;32melse\u001b[0m\u001b[0;34m:\u001b[0m\u001b[0;34m\u001b[0m\u001b[0;34m\u001b[0m\u001b[0m\n\u001b[1;32m      9\u001b[0m         \u001b[0mselector\u001b[0m \u001b[0;34m=\u001b[0m \u001b[0mRFE\u001b[0m\u001b[0;34m(\u001b[0m\u001b[0mestimator\u001b[0m\u001b[0;34m,\u001b[0m\u001b[0mn_features_to_select\u001b[0m\u001b[0;34m=\u001b[0m\u001b[0mN\u001b[0m\u001b[0;34m,\u001b[0m\u001b[0mstep\u001b[0m\u001b[0;34m=\u001b[0m\u001b[0;36m1\u001b[0m\u001b[0;34m,\u001b[0m\u001b[0mverbose\u001b[0m\u001b[0;34m=\u001b[0m\u001b[0mverb\u001b[0m\u001b[0;34m)\u001b[0m\u001b[0;34m\u001b[0m\u001b[0;34m\u001b[0m\u001b[0m\n\u001b[0;32m---> 10\u001b[0;31m     \u001b[0mselector\u001b[0m \u001b[0;34m=\u001b[0m \u001b[0mselector\u001b[0m\u001b[0;34m.\u001b[0m\u001b[0mfit\u001b[0m\u001b[0;34m(\u001b[0m\u001b[0mX_in\u001b[0m\u001b[0;34m,\u001b[0m\u001b[0my_in\u001b[0m\u001b[0;34m)\u001b[0m\u001b[0;34m\u001b[0m\u001b[0;34m\u001b[0m\u001b[0m\n\u001b[0m\u001b[1;32m     11\u001b[0m     \u001b[0mfeat_out\u001b[0m \u001b[0;34m=\u001b[0m \u001b[0mselector\u001b[0m\u001b[0;34m.\u001b[0m\u001b[0mget_feature_names_out\u001b[0m\u001b[0;34m(\u001b[0m\u001b[0mX_in\u001b[0m\u001b[0;34m.\u001b[0m\u001b[0mcolumns\u001b[0m\u001b[0;34m)\u001b[0m\u001b[0;34m\u001b[0m\u001b[0;34m\u001b[0m\u001b[0m\n\u001b[1;32m     12\u001b[0m     \u001b[0;32mreturn\u001b[0m \u001b[0mfeat_out\u001b[0m\u001b[0;34m\u001b[0m\u001b[0;34m\u001b[0m\u001b[0m\n",
      "\u001b[0;32m/opt/anaconda3/envs/my-rdkit-env/lib/python3.7/site-packages/sklearn/feature_selection/_rfe.py\u001b[0m in \u001b[0;36mfit\u001b[0;34m(self, X, y, **fit_params)\u001b[0m\n\u001b[1;32m    220\u001b[0m             \u001b[0mFitted\u001b[0m \u001b[0mestimator\u001b[0m\u001b[0;34m.\u001b[0m\u001b[0;34m\u001b[0m\u001b[0;34m\u001b[0m\u001b[0m\n\u001b[1;32m    221\u001b[0m         \"\"\"\n\u001b[0;32m--> 222\u001b[0;31m         \u001b[0;32mreturn\u001b[0m \u001b[0mself\u001b[0m\u001b[0;34m.\u001b[0m\u001b[0m_fit\u001b[0m\u001b[0;34m(\u001b[0m\u001b[0mX\u001b[0m\u001b[0;34m,\u001b[0m \u001b[0my\u001b[0m\u001b[0;34m,\u001b[0m \u001b[0;34m**\u001b[0m\u001b[0mfit_params\u001b[0m\u001b[0;34m)\u001b[0m\u001b[0;34m\u001b[0m\u001b[0;34m\u001b[0m\u001b[0m\n\u001b[0m\u001b[1;32m    223\u001b[0m \u001b[0;34m\u001b[0m\u001b[0m\n\u001b[1;32m    224\u001b[0m     \u001b[0;32mdef\u001b[0m \u001b[0m_fit\u001b[0m\u001b[0;34m(\u001b[0m\u001b[0mself\u001b[0m\u001b[0;34m,\u001b[0m \u001b[0mX\u001b[0m\u001b[0;34m,\u001b[0m \u001b[0my\u001b[0m\u001b[0;34m,\u001b[0m \u001b[0mstep_score\u001b[0m\u001b[0;34m=\u001b[0m\u001b[0;32mNone\u001b[0m\u001b[0;34m,\u001b[0m \u001b[0;34m**\u001b[0m\u001b[0mfit_params\u001b[0m\u001b[0;34m)\u001b[0m\u001b[0;34m:\u001b[0m\u001b[0;34m\u001b[0m\u001b[0;34m\u001b[0m\u001b[0m\n",
      "\u001b[0;32m/opt/anaconda3/envs/my-rdkit-env/lib/python3.7/site-packages/sklearn/feature_selection/_rfe.py\u001b[0m in \u001b[0;36m_fit\u001b[0;34m(self, X, y, step_score, **fit_params)\u001b[0m\n\u001b[1;32m    235\u001b[0m             \u001b[0mensure_min_features\u001b[0m\u001b[0;34m=\u001b[0m\u001b[0;36m2\u001b[0m\u001b[0;34m,\u001b[0m\u001b[0;34m\u001b[0m\u001b[0;34m\u001b[0m\u001b[0m\n\u001b[1;32m    236\u001b[0m             \u001b[0mforce_all_finite\u001b[0m\u001b[0;34m=\u001b[0m\u001b[0;32mnot\u001b[0m \u001b[0mtags\u001b[0m\u001b[0;34m.\u001b[0m\u001b[0mget\u001b[0m\u001b[0;34m(\u001b[0m\u001b[0;34m\"allow_nan\"\u001b[0m\u001b[0;34m,\u001b[0m \u001b[0;32mTrue\u001b[0m\u001b[0;34m)\u001b[0m\u001b[0;34m,\u001b[0m\u001b[0;34m\u001b[0m\u001b[0;34m\u001b[0m\u001b[0m\n\u001b[0;32m--> 237\u001b[0;31m             \u001b[0mmulti_output\u001b[0m\u001b[0;34m=\u001b[0m\u001b[0;32mTrue\u001b[0m\u001b[0;34m,\u001b[0m\u001b[0;34m\u001b[0m\u001b[0;34m\u001b[0m\u001b[0m\n\u001b[0m\u001b[1;32m    238\u001b[0m         )\n\u001b[1;32m    239\u001b[0m         error_msg = (\n",
      "\u001b[0;32m/opt/anaconda3/envs/my-rdkit-env/lib/python3.7/site-packages/sklearn/base.py\u001b[0m in \u001b[0;36m_validate_data\u001b[0;34m(self, X, y, reset, validate_separately, **check_params)\u001b[0m\n\u001b[1;32m    579\u001b[0m                 \u001b[0my\u001b[0m \u001b[0;34m=\u001b[0m \u001b[0mcheck_array\u001b[0m\u001b[0;34m(\u001b[0m\u001b[0my\u001b[0m\u001b[0;34m,\u001b[0m \u001b[0;34m**\u001b[0m\u001b[0mcheck_y_params\u001b[0m\u001b[0;34m)\u001b[0m\u001b[0;34m\u001b[0m\u001b[0;34m\u001b[0m\u001b[0m\n\u001b[1;32m    580\u001b[0m             \u001b[0;32melse\u001b[0m\u001b[0;34m:\u001b[0m\u001b[0;34m\u001b[0m\u001b[0;34m\u001b[0m\u001b[0m\n\u001b[0;32m--> 581\u001b[0;31m                 \u001b[0mX\u001b[0m\u001b[0;34m,\u001b[0m \u001b[0my\u001b[0m \u001b[0;34m=\u001b[0m \u001b[0mcheck_X_y\u001b[0m\u001b[0;34m(\u001b[0m\u001b[0mX\u001b[0m\u001b[0;34m,\u001b[0m \u001b[0my\u001b[0m\u001b[0;34m,\u001b[0m \u001b[0;34m**\u001b[0m\u001b[0mcheck_params\u001b[0m\u001b[0;34m)\u001b[0m\u001b[0;34m\u001b[0m\u001b[0;34m\u001b[0m\u001b[0m\n\u001b[0m\u001b[1;32m    582\u001b[0m             \u001b[0mout\u001b[0m \u001b[0;34m=\u001b[0m \u001b[0mX\u001b[0m\u001b[0;34m,\u001b[0m \u001b[0my\u001b[0m\u001b[0;34m\u001b[0m\u001b[0;34m\u001b[0m\u001b[0m\n\u001b[1;32m    583\u001b[0m \u001b[0;34m\u001b[0m\u001b[0m\n",
      "\u001b[0;32m/opt/anaconda3/envs/my-rdkit-env/lib/python3.7/site-packages/sklearn/utils/validation.py\u001b[0m in \u001b[0;36mcheck_X_y\u001b[0;34m(X, y, accept_sparse, accept_large_sparse, dtype, order, copy, force_all_finite, ensure_2d, allow_nd, multi_output, ensure_min_samples, ensure_min_features, y_numeric, estimator)\u001b[0m\n\u001b[1;32m    974\u001b[0m         \u001b[0mensure_min_samples\u001b[0m\u001b[0;34m=\u001b[0m\u001b[0mensure_min_samples\u001b[0m\u001b[0;34m,\u001b[0m\u001b[0;34m\u001b[0m\u001b[0;34m\u001b[0m\u001b[0m\n\u001b[1;32m    975\u001b[0m         \u001b[0mensure_min_features\u001b[0m\u001b[0;34m=\u001b[0m\u001b[0mensure_min_features\u001b[0m\u001b[0;34m,\u001b[0m\u001b[0;34m\u001b[0m\u001b[0;34m\u001b[0m\u001b[0m\n\u001b[0;32m--> 976\u001b[0;31m         \u001b[0mestimator\u001b[0m\u001b[0;34m=\u001b[0m\u001b[0mestimator\u001b[0m\u001b[0;34m,\u001b[0m\u001b[0;34m\u001b[0m\u001b[0;34m\u001b[0m\u001b[0m\n\u001b[0m\u001b[1;32m    977\u001b[0m     )\n\u001b[1;32m    978\u001b[0m \u001b[0;34m\u001b[0m\u001b[0m\n",
      "\u001b[0;32m/opt/anaconda3/envs/my-rdkit-env/lib/python3.7/site-packages/sklearn/utils/validation.py\u001b[0m in \u001b[0;36mcheck_array\u001b[0;34m(array, accept_sparse, accept_large_sparse, dtype, order, copy, force_all_finite, ensure_2d, allow_nd, ensure_min_samples, ensure_min_features, estimator)\u001b[0m\n\u001b[1;32m    771\u001b[0m                     \u001b[0;34m\"Reshape your data either using array.reshape(-1, 1) if \"\u001b[0m\u001b[0;34m\u001b[0m\u001b[0;34m\u001b[0m\u001b[0m\n\u001b[1;32m    772\u001b[0m                     \u001b[0;34m\"your data has a single feature or array.reshape(1, -1) \"\u001b[0m\u001b[0;34m\u001b[0m\u001b[0;34m\u001b[0m\u001b[0m\n\u001b[0;32m--> 773\u001b[0;31m                     \u001b[0;34m\"if it contains a single sample.\"\u001b[0m\u001b[0;34m.\u001b[0m\u001b[0mformat\u001b[0m\u001b[0;34m(\u001b[0m\u001b[0marray\u001b[0m\u001b[0;34m)\u001b[0m\u001b[0;34m\u001b[0m\u001b[0;34m\u001b[0m\u001b[0m\n\u001b[0m\u001b[1;32m    774\u001b[0m                 )\n\u001b[1;32m    775\u001b[0m \u001b[0;34m\u001b[0m\u001b[0m\n",
      "\u001b[0;31mValueError\u001b[0m: Expected 2D array, got 1D array instead:\narray=[ True  True  True  True  True  True  True  True  True  True  True  True\n  True  True  True  True  True  True False False False False False False\n False False False False False False False False False False False False].\nReshape your data either using array.reshape(-1, 1) if your data has a single feature or array.reshape(1, -1) if it contains a single sample."
     ]
    }
   ],
   "source": [
    "# try splitting into a bunch of random balanced fits and see which features show up frequently (can use LOO)\n",
    "\n",
    "feat_r = []\n",
    "for i in range(100):\n",
    "    indices = y[y==False].sample(n=18).index\n",
    "    X2 = pd.concat([x[y==True],x.loc[indices]])\n",
    "    Y2 = pd.concat([y[y==True],y[indices]])\n",
    "    clf.fit(X2,Y2)\n",
    "    feat_r.append(feat_red(clf.X2,Y2,10,'RFE',0,0))\n",
    "    clf.fit(X2[feat_r[i]],Y2)\n",
    "    cm_test(clf,X2[feat_r[i]],Y2)\n",
    "    print(i,feat_r[i])"
   ]
  },
  {
   "cell_type": "code",
   "execution_count": 185,
   "id": "484e26a4",
   "metadata": {},
   "outputs": [
    {
     "data": {
      "text/plain": [
       "<AxesSubplot:>"
      ]
     },
     "execution_count": 185,
     "metadata": {},
     "output_type": "execute_result"
    },
    {
     "data": {
      "image/png": "[encoded data removed]",
      "text/plain": [
       "<Figure size 432x288 with 1 Axes>"
      ]
     },
     "metadata": {
      "needs_background": "light"
     },
     "output_type": "display_data"
    }
   ],
   "source": [
    "counts = pd.Series(np.stack(feat_r).flatten()).value_counts(sort=False)\n",
    "counts.plot(kind='bar')"
   ]
  },
  {
   "cell_type": "code",
   "execution_count": 183,
   "id": "1a862bbf",
   "metadata": {},
   "outputs": [
    {
     "data": {
      "text/plain": [
       "0    1\n",
       "Name: Mor21m, dtype: int64"
      ]
     },
     "execution_count": 183,
     "metadata": {},
     "output_type": "execute_result"
    }
   ],
   "source": [
    "#counts.to_csv('descriptor_ranking.csv')\n",
    "#counts = pd.read_csv('descriptor_ranking.csv')\n",
    "#df = pd.read_csv('descriptor_ranking.csv', index_col=False, header=0);\n",
    "#counts = df.set_index('Unnamed: 0')\n",
    "#counts = counts.transpose()"
   ]
  },
  {
   "cell_type": "code",
   "execution_count": 178,
   "id": "41407814",
   "metadata": {},
   "outputs": [],
   "source": [
    "desc_rank = counts.index"
   ]
  },
  {
   "cell_type": "code",
   "execution_count": 77,
   "id": "77504512",
   "metadata": {},
   "outputs": [],
   "source": [
    "counts = pd.read_csv('descriptor_ranking.csv')\n"
   ]
  },
  {
   "cell_type": "code",
   "execution_count": 81,
   "id": "d2c66f6e",
   "metadata": {},
   "outputs": [
    {
     "data": {
      "text/plain": [
       "27"
      ]
     },
     "execution_count": 81,
     "metadata": {},
     "output_type": "execute_result"
    }
   ],
   "source": [
    "sum(counts['0']>9)"
   ]
  },
  {
   "cell_type": "code",
   "execution_count": 179,
   "id": "bd04b54a",
   "metadata": {},
   "outputs": [
    {
     "data": {
      "text/plain": [
       "9"
      ]
     },
     "execution_count": 179,
     "metadata": {},
     "output_type": "execute_result"
    }
   ],
   "source": [
    "np.argmax(counts)"
   ]
  },
  {
   "cell_type": "code",
   "execution_count": 181,
   "id": "392bd6b1",
   "metadata": {},
   "outputs": [],
   "source": [
    "#counts['Mor32m']"
   ]
  },
  {
   "cell_type": "code",
   "execution_count": 25,
   "id": "22e07513",
   "metadata": {},
   "outputs": [
    {
     "data": {
      "image/png": "[encoded data removed]",
      "text/plain": [
       "<Figure size 432x288 with 2 Axes>"
      ]
     },
     "metadata": {
      "needs_background": "light"
     },
     "output_type": "display_data"
    },
    {
     "name": "stdout",
     "output_type": "stream",
     "text": [
      "0.8436379928315412\n"
     ]
    }
   ],
   "source": [
    "descs=['Mor32m']\n",
    "\n",
    "X_train2 = x[descs]\n",
    "\n",
    "clf = LogisticRegression(solver='liblinear', multi_class='ovr',class_weight='balanced')\n",
    "\n",
    "#clf = DecisionTreeClassifier(class_weight='balanced',max_depth=2,min_samples_leaf=2)\n",
    "clf.fit(X_train2,y)\n",
    "\n",
    "predictions = clf.predict(X_train2)\n",
    "\n",
    "cm = confusion_matrix(y, predictions, labels=clf.classes_)\n",
    "disp = ConfusionMatrixDisplay(confusion_matrix=cm,display_labels=clf.classes_)\n",
    "disp.plot()\n",
    "\n",
    "plt.show()\n",
    "\n",
    "print(balanced_accuracy_score(y,clf.predict(X_train2)))"
   ]
  },
  {
   "cell_type": "code",
   "execution_count": 62,
   "id": "6c1d1df5",
   "metadata": {},
   "outputs": [
    {
     "name": "stdout",
     "output_type": "stream",
     "text": [
      "['Mor32m'] 0.8436379928315412 0.425\n",
      "['Mor32m', 'nR06'] 0.907258064516129 0.51875\n",
      "['Mor32m', 'nR06', 'VE1sign_B(s)'] 0.9233870967741935 0.6125\n",
      "['Mor32m', 'nR06', 'VE1sign_B(s)', 'P_VSA_LogP_6'] 0.9314516129032258 0.575\n",
      "['Mor32m', 'nR06', 'VE1sign_B(s)', 'P_VSA_LogP_6', 'HATS6s'] 0.939516129032258 0.575\n",
      "['Mor32m', 'nR06', 'VE1sign_B(s)', 'P_VSA_LogP_6', 'HATS6s', 'minaaNH'] 0.9435483870967742 0.575\n",
      "['Mor32m', 'nR06', 'VE1sign_B(s)', 'P_VSA_LogP_6', 'HATS6s', 'minaaNH', 'B09[N-F]'] 0.9435483870967742 0.5125\n",
      "['Mor32m', 'nR06', 'VE1sign_B(s)', 'P_VSA_LogP_6', 'HATS6s', 'minaaNH', 'B09[N-F]', 'B09[N-F]'] 0.9435483870967742 0.5125\n",
      "['Mor32m', 'nR06', 'VE1sign_B(s)', 'P_VSA_LogP_6', 'HATS6s', 'minaaNH', 'B09[N-F]', 'B09[N-F]', 'B09[N-F]'] 0.9435483870967742 0.5125\n",
      "['Mor32m', 'nR06', 'VE1sign_B(s)', 'P_VSA_LogP_6', 'HATS6s', 'minaaNH', 'B09[N-F]', 'B09[N-F]', 'B09[N-F]', 'B09[N-F]'] 0.9435483870967742 0.5125\n"
     ]
    }
   ],
   "source": [
    "desc_best = []\n",
    "for _ in range(10):\n",
    "    scores_train = []\n",
    "    scores_test = []\n",
    "    descs = []\n",
    "    for desc in desc_rank:\n",
    "        #print(desc)\n",
    "        descs = desc_best.copy()\n",
    "        descs.append(desc)\n",
    "   \n",
    "        X_train2 = x[descs]\n",
    "\n",
    "        clf = LogisticRegression(solver='liblinear', multi_class='ovr',class_weight='balanced')\n",
    "\n",
    "        clf.fit(X_train2,y)\n",
    "\n",
    "        predictions = clf.predict(X_train2)\n",
    "        predictions_test = clf.predict(test_molecules_2[descs])\n",
    "\n",
    "        scores_train.append(balanced_accuracy_score(y,clf.predict(X_train2)))\n",
    "        scores_test.append(balanced_accuracy_score(test_molecules_2['Experimental'],clf.predict(test_molecules_2[descs])))\n",
    "\n",
    "        #print(balanced_accuracy_score(y,clf.predict(X_train2)))\n",
    "    desc_best.append(desc_rank[np.argmax(scores_train)])\n",
    "    print(desc_best,max(scores_train),scores_test[np.argmax(scores_train)])"
   ]
  },
  {
   "cell_type": "code",
   "execution_count": null,
   "id": "4794033b",
   "metadata": {},
   "outputs": [],
   "source": [
    "['Mor32m'] 0.8436379928315412\n",
    "['Mor32m', 'Mor25m'] 0.8794802867383513\n",
    "['Mor32m', 'Mor25m', 'ALOGP2'] 0.9274193548387097\n",
    "['Mor32m', 'Mor25m', 'ALOGP2', 'VE1sign_RG'] 0.9314516129032258\n",
    "['Mor32m', 'Mor25m', 'ALOGP2', 'VE1sign_RG', 'RDF040m'] 0.9435483870967742\n",
    "['Mor32m', 'Mor25m', 'ALOGP2', 'VE1sign_RG', 'RDF040m', 'CATS3D_04_AP'] 0.9475806451612903\n",
    "['Mor32m', 'Mor25m', 'ALOGP2', 'VE1sign_RG', 'RDF040m', 'CATS3D_04_AP', 'B10[N-N]'] 0.9475806451612903\n",
    "['Mor32m', 'Mor25m', 'ALOGP2', 'VE1sign_RG', 'RDF040m', 'CATS3D_04_AP', 'B10[N-N]', 'nArCONR2'] 0.9516129032258065\n",
    "['Mor32m', 'Mor25m', 'ALOGP2', 'VE1sign_RG', 'RDF040m', 'CATS3D_04_AP', 'B10[N-N]', 'nArCONR2', 'SpMAD_EA(ri)'] 0.9556451612903225\n",
    "['Mor32m', 'Mor25m', 'ALOGP2', 'VE1sign_RG', 'RDF040m', 'CATS3D_04_AP', 'B10[N-N]', 'nArCONR2', 'SpMAD_EA(ri)', 'EE_G'] 0.9596774193548387"
   ]
  },
  {
   "cell_type": "code",
   "execution_count": 62,
   "id": "b78c122a",
   "metadata": {},
   "outputs": [
    {
     "data": {
      "text/plain": [
       "['Mor32m', 'Mor25m']"
      ]
     },
     "execution_count": 62,
     "metadata": {},
     "output_type": "execute_result"
    }
   ],
   "source": [
    "desc_best"
   ]
  },
  {
   "cell_type": "code",
   "execution_count": 48,
   "id": "a3e44e54",
   "metadata": {},
   "outputs": [],
   "source": [
    "desc_best = []\n",
    "desc_best.append(desc_rank[np.argmax(scores)])"
   ]
  },
  {
   "cell_type": "code",
   "execution_count": 49,
   "id": "7f3676a8",
   "metadata": {},
   "outputs": [
    {
     "data": {
      "text/plain": [
       "['Mor32m']"
      ]
     },
     "execution_count": 49,
     "metadata": {},
     "output_type": "execute_result"
    }
   ],
   "source": [
    "desc_best"
   ]
  },
  {
   "cell_type": "code",
   "execution_count": 35,
   "id": "275ec9ba",
   "metadata": {},
   "outputs": [
    {
     "ename": "AttributeError",
     "evalue": "'str' object has no attribute 'append'",
     "output_type": "error",
     "traceback": [
      "\u001b[0;31m---------------------------------------------------------------------------\u001b[0m",
      "\u001b[0;31mAttributeError\u001b[0m                            Traceback (most recent call last)",
      "\u001b[0;32m/var/folders/gb/lk5ckc2n4sq0ml1d8wm6k8gm0000gn/T/ipykernel_1473/1174633950.py\u001b[0m in \u001b[0;36m<module>\u001b[0;34m\u001b[0m\n\u001b[0;32m----> 1\u001b[0;31m \u001b[0mdesc_best\u001b[0m\u001b[0;34m.\u001b[0m\u001b[0mappend\u001b[0m\u001b[0;34m(\u001b[0m\u001b[0mdesc_rank\u001b[0m\u001b[0;34m[\u001b[0m\u001b[0mnp\u001b[0m\u001b[0;34m.\u001b[0m\u001b[0margmax\u001b[0m\u001b[0;34m(\u001b[0m\u001b[0mscores\u001b[0m\u001b[0;34m)\u001b[0m\u001b[0;34m]\u001b[0m\u001b[0;34m)\u001b[0m\u001b[0;34m\u001b[0m\u001b[0;34m\u001b[0m\u001b[0m\n\u001b[0m",
      "\u001b[0;31mAttributeError\u001b[0m: 'str' object has no attribute 'append'"
     ]
    }
   ],
   "source": [
    "desc_best.append(desc_rank[np.argmax(scores)])"
   ]
  },
  {
   "cell_type": "code",
   "execution_count": 11,
   "id": "e8e92d0f",
   "metadata": {
    "scrolled": true
   },
   "outputs": [
    {
     "data": {
      "image/png": "[encoded data removed]",
      "text/plain": [
       "<Figure size 432x288 with 2 Axes>"
      ]
     },
     "metadata": {
      "needs_background": "light"
     },
     "output_type": "display_data"
    },
    {
     "name": "stdout",
     "output_type": "stream",
     "text": [
      "0.9475806451612903\n",
      "0.8846153846153846\n"
     ]
    },
    {
     "data": {
      "text/html": [
       "<div>\n",
       "<style scoped>\n",
       "    .dataframe tbody tr th:only-of-type {\n",
       "        vertical-align: middle;\n",
       "    }\n",
       "\n",
       "    .dataframe tbody tr th {\n",
       "        vertical-align: top;\n",
       "    }\n",
       "\n",
       "    .dataframe thead th {\n",
       "        text-align: right;\n",
       "    }\n",
       "</style>\n",
       "<table border=\"1\" class=\"dataframe\">\n",
       "  <thead>\n",
       "    <tr style=\"text-align: right;\">\n",
       "      <th></th>\n",
       "      <th>Name</th>\n",
       "      <th>SMILES</th>\n",
       "      <th>experimental</th>\n",
       "      <th>prediction</th>\n",
       "    </tr>\n",
       "  </thead>\n",
       "  <tbody>\n",
       "    <tr>\n",
       "      <th>0</th>\n",
       "      <td>Amiodarone</td>\n",
       "      <td>CCCCC1=C(C2=CC=CC=C2O1)C(=O)C3=CC(=C(C(=C3)I)O...</td>\n",
       "      <td>True</td>\n",
       "      <td>True</td>\n",
       "    </tr>\n",
       "    <tr>\n",
       "      <th>1</th>\n",
       "      <td>Apilimod</td>\n",
       "      <td>CC1=CC(=CC=C1)C=NNC2=CC(=NC(=N2)OCCC3=CC=CC=N3...</td>\n",
       "      <td>True</td>\n",
       "      <td>False</td>\n",
       "    </tr>\n",
       "    <tr>\n",
       "      <th>2</th>\n",
       "      <td>Chlorpromazine</td>\n",
       "      <td>CN(C)CCCN1C2=CC=CC=C2SC3=C1C=C(C=C3)Cl</td>\n",
       "      <td>True</td>\n",
       "      <td>True</td>\n",
       "    </tr>\n",
       "    <tr>\n",
       "      <th>3</th>\n",
       "      <td>Emetine</td>\n",
       "      <td>CCC1CN2CCC3=CC(=C(C=C3C2CC1CC4C5=CC(=C(C=C5CCN...</td>\n",
       "      <td>False</td>\n",
       "      <td>False</td>\n",
       "    </tr>\n",
       "    <tr>\n",
       "      <th>4</th>\n",
       "      <td>Emetine analog</td>\n",
       "      <td>CC[C@@H]1[C@@H](C[C@H](C2=C3)N(CCCCCCCC/C=C\\CC...</td>\n",
       "      <td>True</td>\n",
       "      <td>True</td>\n",
       "    </tr>\n",
       "    <tr>\n",
       "      <th>5</th>\n",
       "      <td>Levofloxacin</td>\n",
       "      <td>CC1COC2=C3N1C=C(C(=O)C3=CC(=C2N4CCN(CC4)C)F)C(...</td>\n",
       "      <td>False</td>\n",
       "      <td>False</td>\n",
       "    </tr>\n",
       "    <tr>\n",
       "      <th>6</th>\n",
       "      <td>MC3</td>\n",
       "      <td>CCCCCC=CCC=CCCCCCCCCC(CCCCCCCCC=CCC=CCCCCC)OC(...</td>\n",
       "      <td>True</td>\n",
       "      <td>True</td>\n",
       "    </tr>\n",
       "    <tr>\n",
       "      <th>7</th>\n",
       "      <td>Netarsudil</td>\n",
       "      <td>CC1=CC(=C(C=C1)C(=O)OCC2=CC=C(C=C2)C(CN)C(=O)N...</td>\n",
       "      <td>True</td>\n",
       "      <td>False</td>\n",
       "    </tr>\n",
       "    <tr>\n",
       "      <th>8</th>\n",
       "      <td>Siramesine</td>\n",
       "      <td>C1CN(CCC12C3=CC=CC=C3CO2)CCCCC4=CN(C5=CC=CC=C5...</td>\n",
       "      <td>True</td>\n",
       "      <td>True</td>\n",
       "    </tr>\n",
       "    <tr>\n",
       "      <th>9</th>\n",
       "      <td>Sorafenib</td>\n",
       "      <td>CNC(=O)C1=NC=CC(=C1)OC2=CC=C(C=C2)NC(=O)NC3=CC...</td>\n",
       "      <td>False</td>\n",
       "      <td>False</td>\n",
       "    </tr>\n",
       "    <tr>\n",
       "      <th>10</th>\n",
       "      <td>Sorafenib analogue</td>\n",
       "      <td>ClC1=C(C(F)(F)F)C=C(C=C1)NC(NC(C=C2)=CC=C2OC3=...</td>\n",
       "      <td>True</td>\n",
       "      <td>False</td>\n",
       "    </tr>\n",
       "    <tr>\n",
       "      <th>11</th>\n",
       "      <td>Tamoxifen</td>\n",
       "      <td>CCC(=C(C1=CC=CC=C1)C2=CC=C(C=C2)OCCN(C)C)C3=CC...</td>\n",
       "      <td>True</td>\n",
       "      <td>True</td>\n",
       "    </tr>\n",
       "    <tr>\n",
       "      <th>12</th>\n",
       "      <td>Timolol</td>\n",
       "      <td>CC(C)(C)NCC(COC1=NSN=C1N2CCOCC2)O</td>\n",
       "      <td>False</td>\n",
       "      <td>False</td>\n",
       "    </tr>\n",
       "    <tr>\n",
       "      <th>13</th>\n",
       "      <td>7a</td>\n",
       "      <td>OC1=CC=C2C(C[C@@H](CCCCCCCCCS(CCCC(F)(F)C(F)(F...</td>\n",
       "      <td>True</td>\n",
       "      <td>True</td>\n",
       "    </tr>\n",
       "    <tr>\n",
       "      <th>14</th>\n",
       "      <td>7b</td>\n",
       "      <td>OC1=CC=C2C(C[C@@H](CCCCCCCCCS(CCCC(F)(F)C(F)(F...</td>\n",
       "      <td>True</td>\n",
       "      <td>True</td>\n",
       "    </tr>\n",
       "    <tr>\n",
       "      <th>15</th>\n",
       "      <td>7c</td>\n",
       "      <td>OC1=CC=C2C(C[C@@H](CCCCCCCCCS(CCCC(F)(F)C(F)(F...</td>\n",
       "      <td>True</td>\n",
       "      <td>True</td>\n",
       "    </tr>\n",
       "    <tr>\n",
       "      <th>16</th>\n",
       "      <td>7d</td>\n",
       "      <td>OC1=CC=C2C(C[C@@H](CCCCCCCCCS(CCCC(F)(F)C(F)(F...</td>\n",
       "      <td>True</td>\n",
       "      <td>True</td>\n",
       "    </tr>\n",
       "    <tr>\n",
       "      <th>17</th>\n",
       "      <td>7e</td>\n",
       "      <td>OC1=CC=C2C(C[C@@H](CCCCCCCCCS(CCCC(F)(F)C(F)(F...</td>\n",
       "      <td>True</td>\n",
       "      <td>True</td>\n",
       "    </tr>\n",
       "    <tr>\n",
       "      <th>18</th>\n",
       "      <td>7f</td>\n",
       "      <td>OC1=CC=C2C(C[C@@H](CCCCCCCCCS(CCCC(F)(F)C(F)(F...</td>\n",
       "      <td>True</td>\n",
       "      <td>True</td>\n",
       "    </tr>\n",
       "    <tr>\n",
       "      <th>19</th>\n",
       "      <td>7g</td>\n",
       "      <td>OC1=CC=C2C(C[C@@H](CCCCCCCCCS(CCCC(F)(F)C(F)(F...</td>\n",
       "      <td>True</td>\n",
       "      <td>True</td>\n",
       "    </tr>\n",
       "    <tr>\n",
       "      <th>20</th>\n",
       "      <td>7h</td>\n",
       "      <td>OC1=CC=C2C(C[C@@H](CCCCCCCCCS(CCCC(F)(F)C(F)(F...</td>\n",
       "      <td>True</td>\n",
       "      <td>True</td>\n",
       "    </tr>\n",
       "    <tr>\n",
       "      <th>21</th>\n",
       "      <td>7i</td>\n",
       "      <td>OC1=CC=C2C(C[C@@H](CCCCCCCCCS(CCCC(F)(F)C(F)(F...</td>\n",
       "      <td>True</td>\n",
       "      <td>True</td>\n",
       "    </tr>\n",
       "    <tr>\n",
       "      <th>22</th>\n",
       "      <td>7j</td>\n",
       "      <td>OC1=CC=C2C(C[C@@H](CCCCCCCCCS(CCCC(F)(F)C(F)(F...</td>\n",
       "      <td>True</td>\n",
       "      <td>True</td>\n",
       "    </tr>\n",
       "    <tr>\n",
       "      <th>23</th>\n",
       "      <td>7k</td>\n",
       "      <td>OC1=CC=C2C(C[C@@H](CCCCCCCCCS(CCCC(F)(F)C(F)(F...</td>\n",
       "      <td>True</td>\n",
       "      <td>True</td>\n",
       "    </tr>\n",
       "    <tr>\n",
       "      <th>24</th>\n",
       "      <td>7l</td>\n",
       "      <td>OC1=CC=C2C(C[C@@H](CCCCCCCCCS(CCCC(F)(F)C(F)(F...</td>\n",
       "      <td>True</td>\n",
       "      <td>True</td>\n",
       "    </tr>\n",
       "    <tr>\n",
       "      <th>25</th>\n",
       "      <td>7m</td>\n",
       "      <td>OC1=CC=C2C(C[C@@H](CCCCCCCCCS(CCCC(F)(F)C(F)(F...</td>\n",
       "      <td>True</td>\n",
       "      <td>True</td>\n",
       "    </tr>\n",
       "  </tbody>\n",
       "</table>\n",
       "</div>"
      ],
      "text/plain": [
       "                  Name                                             SMILES  \\\n",
       "0           Amiodarone  CCCCC1=C(C2=CC=CC=C2O1)C(=O)C3=CC(=C(C(=C3)I)O...   \n",
       "1             Apilimod  CC1=CC(=CC=C1)C=NNC2=CC(=NC(=N2)OCCC3=CC=CC=N3...   \n",
       "2       Chlorpromazine             CN(C)CCCN1C2=CC=CC=C2SC3=C1C=C(C=C3)Cl   \n",
       "3              Emetine  CCC1CN2CCC3=CC(=C(C=C3C2CC1CC4C5=CC(=C(C=C5CCN...   \n",
       "4       Emetine analog  CC[C@@H]1[C@@H](C[C@H](C2=C3)N(CCCCCCCC/C=C\\CC...   \n",
       "5         Levofloxacin  CC1COC2=C3N1C=C(C(=O)C3=CC(=C2N4CCN(CC4)C)F)C(...   \n",
       "6                  MC3  CCCCCC=CCC=CCCCCCCCCC(CCCCCCCCC=CCC=CCCCCC)OC(...   \n",
       "7           Netarsudil  CC1=CC(=C(C=C1)C(=O)OCC2=CC=C(C=C2)C(CN)C(=O)N...   \n",
       "8           Siramesine  C1CN(CCC12C3=CC=CC=C3CO2)CCCCC4=CN(C5=CC=CC=C5...   \n",
       "9            Sorafenib  CNC(=O)C1=NC=CC(=C1)OC2=CC=C(C=C2)NC(=O)NC3=CC...   \n",
       "10  Sorafenib analogue  ClC1=C(C(F)(F)F)C=C(C=C1)NC(NC(C=C2)=CC=C2OC3=...   \n",
       "11           Tamoxifen  CCC(=C(C1=CC=CC=C1)C2=CC=C(C=C2)OCCN(C)C)C3=CC...   \n",
       "12             Timolol                  CC(C)(C)NCC(COC1=NSN=C1N2CCOCC2)O   \n",
       "13                  7a  OC1=CC=C2C(C[C@@H](CCCCCCCCCS(CCCC(F)(F)C(F)(F...   \n",
       "14                  7b  OC1=CC=C2C(C[C@@H](CCCCCCCCCS(CCCC(F)(F)C(F)(F...   \n",
       "15                  7c  OC1=CC=C2C(C[C@@H](CCCCCCCCCS(CCCC(F)(F)C(F)(F...   \n",
       "16                  7d  OC1=CC=C2C(C[C@@H](CCCCCCCCCS(CCCC(F)(F)C(F)(F...   \n",
       "17                  7e  OC1=CC=C2C(C[C@@H](CCCCCCCCCS(CCCC(F)(F)C(F)(F...   \n",
       "18                  7f  OC1=CC=C2C(C[C@@H](CCCCCCCCCS(CCCC(F)(F)C(F)(F...   \n",
       "19                  7g  OC1=CC=C2C(C[C@@H](CCCCCCCCCS(CCCC(F)(F)C(F)(F...   \n",
       "20                  7h  OC1=CC=C2C(C[C@@H](CCCCCCCCCS(CCCC(F)(F)C(F)(F...   \n",
       "21                  7i  OC1=CC=C2C(C[C@@H](CCCCCCCCCS(CCCC(F)(F)C(F)(F...   \n",
       "22                  7j  OC1=CC=C2C(C[C@@H](CCCCCCCCCS(CCCC(F)(F)C(F)(F...   \n",
       "23                  7k  OC1=CC=C2C(C[C@@H](CCCCCCCCCS(CCCC(F)(F)C(F)(F...   \n",
       "24                  7l  OC1=CC=C2C(C[C@@H](CCCCCCCCCS(CCCC(F)(F)C(F)(F...   \n",
       "25                  7m  OC1=CC=C2C(C[C@@H](CCCCCCCCCS(CCCC(F)(F)C(F)(F...   \n",
       "\n",
       "    experimental  prediction  \n",
       "0           True        True  \n",
       "1           True       False  \n",
       "2           True        True  \n",
       "3          False       False  \n",
       "4           True        True  \n",
       "5          False       False  \n",
       "6           True        True  \n",
       "7           True       False  \n",
       "8           True        True  \n",
       "9          False       False  \n",
       "10          True       False  \n",
       "11          True        True  \n",
       "12         False       False  \n",
       "13          True        True  \n",
       "14          True        True  \n",
       "15          True        True  \n",
       "16          True        True  \n",
       "17          True        True  \n",
       "18          True        True  \n",
       "19          True        True  \n",
       "20          True        True  \n",
       "21          True        True  \n",
       "22          True        True  \n",
       "23          True        True  \n",
       "24          True        True  \n",
       "25          True        True  "
      ]
     },
     "execution_count": 11,
     "metadata": {},
     "output_type": "execute_result"
    }
   ],
   "source": [
    "descs=['Mor32m']\n",
    "descs = best5\n",
    "X_train2 = X_reduced[descs]\n",
    "\n",
    "clf = LogisticRegression(solver='liblinear', multi_class='ovr',class_weight='balanced')\n",
    "\n",
    "clf.fit(X_train2,Y)\n",
    "\n",
    "predictions = clf.predict(X_train2)\n",
    "\n",
    "cm = confusion_matrix(Y, predictions, labels=clf.classes_)\n",
    "disp = ConfusionMatrixDisplay(confusion_matrix=cm,display_labels=clf.classes_)\n",
    "disp.plot()\n",
    "\n",
    "plt.show()\n",
    "\n",
    "print(balanced_accuracy_score(Y,clf.predict(X_train2)))\n",
    "\n",
    "test_predict = clf.predict(test_molecules[X[descs].columns])\n",
    "molecules['prediction'] = test_predict\n",
    "molecules\n",
    "\n",
    "print(sum(molecules['prediction']==molecules['experimental'])/len(molecules['prediction']))\n",
    "molecules"
   ]
  },
  {
   "cell_type": "code",
   "execution_count": 101,
   "id": "9337369c",
   "metadata": {},
   "outputs": [
    {
     "name": "stdout",
     "output_type": "stream",
     "text": [
      "Maximum score of: 0.8794802867383513  for  Mor25m & Mor32m\n"
     ]
    }
   ],
   "source": [
    "desc_rank_10 = desc_rank[counts>9]\n",
    "n = len(desc_rank_10)\n",
    "scores = np.zeros((n,n))\n",
    "i=0\n",
    "j=0\n",
    "for desc1 in desc_rank_10:\n",
    "    j=0\n",
    "    for desc2 in desc_rank_10:\n",
    "        descs = [desc1,desc2]\n",
    "   \n",
    "        X_train2 = x[descs]\n",
    "\n",
    "        clf = LogisticRegression(solver='liblinear', multi_class='ovr',class_weight='balanced')\n",
    "        clf.fit(X_train2,y)\n",
    "\n",
    "        predictions = clf.predict(X_train2)\n",
    "        scores[i,j] = balanced_accuracy_score(y,clf.predict(X_train2))\n",
    "        j=j+1\n",
    "    i=i+1\n",
    "\n",
    "ind_best = np.asarray(np.unravel_index(scores.argmax(),scores.shape))\n",
    "print('Maximum score of:',scores[ind_best[0],ind_best[1]],' for ',\n",
    "      desc_rank_10[ind_best[0]],'&',\n",
    "      desc_rank_10[ind_best[1]])"
   ]
  },
  {
   "cell_type": "code",
   "execution_count": 82,
   "id": "d1ea7fa3",
   "metadata": {},
   "outputs": [
    {
     "data": {
      "text/plain": [
       "'1294/17550'"
      ]
     },
     "metadata": {},
     "output_type": "display_data"
    },
    {
     "ename": "KeyboardInterrupt",
     "evalue": "",
     "output_type": "error",
     "traceback": [
      "\u001b[0;31m---------------------------------------------------------------------------\u001b[0m",
      "\u001b[0;31mKeyboardInterrupt\u001b[0m                         Traceback (most recent call last)",
      "\u001b[0;32m/var/folders/gb/lk5ckc2n4sq0ml1d8wm6k8gm0000gn/T/ipykernel_1272/2035114297.py\u001b[0m in \u001b[0;36m<module>\u001b[0;34m\u001b[0m\n\u001b[1;32m      7\u001b[0m \u001b[0;32mfor\u001b[0m \u001b[0mi\u001b[0m \u001b[0;32min\u001b[0m \u001b[0mrange\u001b[0m\u001b[0;34m(\u001b[0m\u001b[0mmax_desc\u001b[0m\u001b[0;34m)\u001b[0m\u001b[0;34m:\u001b[0m\u001b[0;34m\u001b[0m\u001b[0;34m\u001b[0m\u001b[0m\n\u001b[1;32m      8\u001b[0m     \u001b[0mprint\u001b[0m \u001b[0;34m(\u001b[0m\u001b[0mi\u001b[0m\u001b[0;34m)\u001b[0m\u001b[0;34m\u001b[0m\u001b[0;34m\u001b[0m\u001b[0m\n\u001b[0;32m----> 9\u001b[0;31m     \u001b[0;34m[\u001b[0m\u001b[0mbest_comb\u001b[0m\u001b[0;34m,\u001b[0m \u001b[0mbest_score\u001b[0m\u001b[0;34m,\u001b[0m\u001b[0mbest_test_score\u001b[0m\u001b[0;34m,\u001b[0m\u001b[0m_\u001b[0m\u001b[0;34m,\u001b[0m\u001b[0m_\u001b[0m\u001b[0;34m]\u001b[0m \u001b[0;34m=\u001b[0m \u001b[0mbest_desc_comb\u001b[0m\u001b[0;34m(\u001b[0m\u001b[0mdesc_rank\u001b[0m\u001b[0;34m,\u001b[0m\u001b[0mfreq_thresh\u001b[0m\u001b[0;34m,\u001b[0m\u001b[0mi\u001b[0m\u001b[0;34m+\u001b[0m\u001b[0;36m1\u001b[0m\u001b[0;34m,\u001b[0m\u001b[0mx\u001b[0m\u001b[0;34m,\u001b[0m\u001b[0my\u001b[0m\u001b[0;34m,\u001b[0m\u001b[0mtest_molecules_2\u001b[0m\u001b[0;34m,\u001b[0m\u001b[0mtest_molecules_2\u001b[0m\u001b[0;34m[\u001b[0m\u001b[0;34m'Experimental'\u001b[0m\u001b[0;34m]\u001b[0m\u001b[0;34m)\u001b[0m\u001b[0;34m\u001b[0m\u001b[0;34m\u001b[0m\u001b[0m\n\u001b[0m\u001b[1;32m     10\u001b[0m     \u001b[0mbest_combs\u001b[0m\u001b[0;34m.\u001b[0m\u001b[0mappend\u001b[0m\u001b[0;34m(\u001b[0m\u001b[0mbest_comb\u001b[0m\u001b[0;34m)\u001b[0m\u001b[0;34m\u001b[0m\u001b[0;34m\u001b[0m\u001b[0m\n\u001b[1;32m     11\u001b[0m     \u001b[0mbest_scores\u001b[0m\u001b[0;34m.\u001b[0m\u001b[0mappend\u001b[0m\u001b[0;34m(\u001b[0m\u001b[0mbest_score\u001b[0m\u001b[0;34m)\u001b[0m\u001b[0;34m\u001b[0m\u001b[0;34m\u001b[0m\u001b[0m\n",
      "\u001b[0;32m/var/folders/gb/lk5ckc2n4sq0ml1d8wm6k8gm0000gn/T/ipykernel_1272/1811216649.py\u001b[0m in \u001b[0;36mbest_desc_comb\u001b[0;34m(desc_rank, freq_thresh, n_desc, x_train, y_train, x_test, y_test)\u001b[0m\n\u001b[1;32m    107\u001b[0m         \u001b[0mclf\u001b[0m \u001b[0;34m=\u001b[0m \u001b[0mLogisticRegression\u001b[0m\u001b[0;34m(\u001b[0m\u001b[0msolver\u001b[0m\u001b[0;34m=\u001b[0m\u001b[0;34m'liblinear'\u001b[0m\u001b[0;34m,\u001b[0m \u001b[0mmulti_class\u001b[0m\u001b[0;34m=\u001b[0m\u001b[0;34m'ovr'\u001b[0m\u001b[0;34m,\u001b[0m\u001b[0mclass_weight\u001b[0m\u001b[0;34m=\u001b[0m\u001b[0;34m'balanced'\u001b[0m\u001b[0;34m)\u001b[0m\u001b[0;34m\u001b[0m\u001b[0;34m\u001b[0m\u001b[0m\n\u001b[1;32m    108\u001b[0m         \u001b[0mclf\u001b[0m\u001b[0;34m.\u001b[0m\u001b[0mfit\u001b[0m\u001b[0;34m(\u001b[0m\u001b[0mX_train2\u001b[0m\u001b[0;34m,\u001b[0m\u001b[0my_train\u001b[0m\u001b[0;34m)\u001b[0m\u001b[0;34m\u001b[0m\u001b[0;34m\u001b[0m\u001b[0m\n\u001b[0;32m--> 109\u001b[0;31m         \u001b[0mpredictions\u001b[0m \u001b[0;34m=\u001b[0m \u001b[0mclf\u001b[0m\u001b[0;34m.\u001b[0m\u001b[0mpredict\u001b[0m\u001b[0;34m(\u001b[0m\u001b[0mX_train2\u001b[0m\u001b[0;34m)\u001b[0m\u001b[0;34m\u001b[0m\u001b[0;34m\u001b[0m\u001b[0m\n\u001b[0m\u001b[1;32m    110\u001b[0m         \u001b[0mscores\u001b[0m\u001b[0;34m.\u001b[0m\u001b[0mappend\u001b[0m\u001b[0;34m(\u001b[0m\u001b[0mbalanced_accuracy_score\u001b[0m\u001b[0;34m(\u001b[0m\u001b[0my_train\u001b[0m\u001b[0;34m,\u001b[0m\u001b[0mclf\u001b[0m\u001b[0;34m.\u001b[0m\u001b[0mpredict\u001b[0m\u001b[0;34m(\u001b[0m\u001b[0mX_train2\u001b[0m\u001b[0;34m)\u001b[0m\u001b[0;34m)\u001b[0m\u001b[0;34m)\u001b[0m\u001b[0;34m\u001b[0m\u001b[0;34m\u001b[0m\u001b[0m\n\u001b[1;32m    111\u001b[0m         \u001b[0mscores_test\u001b[0m\u001b[0;34m.\u001b[0m\u001b[0mappend\u001b[0m\u001b[0;34m(\u001b[0m\u001b[0mbalanced_accuracy_score\u001b[0m\u001b[0;34m(\u001b[0m\u001b[0my_test\u001b[0m\u001b[0;34m,\u001b[0m\u001b[0mclf\u001b[0m\u001b[0;34m.\u001b[0m\u001b[0mpredict\u001b[0m\u001b[0;34m(\u001b[0m\u001b[0mX_test2\u001b[0m\u001b[0;34m)\u001b[0m\u001b[0;34m)\u001b[0m\u001b[0;34m)\u001b[0m\u001b[0;34m\u001b[0m\u001b[0;34m\u001b[0m\u001b[0m\n",
      "\u001b[0;32m/opt/anaconda3/envs/my-rdkit-env/lib/python3.7/site-packages/sklearn/linear_model/_base.py\u001b[0m in \u001b[0;36mpredict\u001b[0;34m(self, X)\u001b[0m\n\u001b[1;32m    423\u001b[0m             \u001b[0mVector\u001b[0m \u001b[0mcontaining\u001b[0m \u001b[0mthe\u001b[0m \u001b[0;32mclass\u001b[0m \u001b[0mlabels\u001b[0m \u001b[0;32mfor\u001b[0m \u001b[0meach\u001b[0m \u001b[0msample\u001b[0m\u001b[0;34m.\u001b[0m\u001b[0;34m\u001b[0m\u001b[0;34m\u001b[0m\u001b[0m\n\u001b[1;32m    424\u001b[0m         \"\"\"\n\u001b[0;32m--> 425\u001b[0;31m         \u001b[0mscores\u001b[0m \u001b[0;34m=\u001b[0m \u001b[0mself\u001b[0m\u001b[0;34m.\u001b[0m\u001b[0mdecision_function\u001b[0m\u001b[0;34m(\u001b[0m\u001b[0mX\u001b[0m\u001b[0;34m)\u001b[0m\u001b[0;34m\u001b[0m\u001b[0;34m\u001b[0m\u001b[0m\n\u001b[0m\u001b[1;32m    426\u001b[0m         \u001b[0;32mif\u001b[0m \u001b[0mlen\u001b[0m\u001b[0;34m(\u001b[0m\u001b[0mscores\u001b[0m\u001b[0;34m.\u001b[0m\u001b[0mshape\u001b[0m\u001b[0;34m)\u001b[0m \u001b[0;34m==\u001b[0m \u001b[0;36m1\u001b[0m\u001b[0;34m:\u001b[0m\u001b[0;34m\u001b[0m\u001b[0;34m\u001b[0m\u001b[0m\n\u001b[1;32m    427\u001b[0m             \u001b[0mindices\u001b[0m \u001b[0;34m=\u001b[0m \u001b[0;34m(\u001b[0m\u001b[0mscores\u001b[0m \u001b[0;34m>\u001b[0m \u001b[0;36m0\u001b[0m\u001b[0;34m)\u001b[0m\u001b[0;34m.\u001b[0m\u001b[0mastype\u001b[0m\u001b[0;34m(\u001b[0m\u001b[0mint\u001b[0m\u001b[0;34m)\u001b[0m\u001b[0;34m\u001b[0m\u001b[0;34m\u001b[0m\u001b[0m\n",
      "\u001b[0;32m/opt/anaconda3/envs/my-rdkit-env/lib/python3.7/site-packages/sklearn/linear_model/_base.py\u001b[0m in \u001b[0;36mdecision_function\u001b[0;34m(self, X)\u001b[0m\n\u001b[1;32m    405\u001b[0m         \u001b[0mcheck_is_fitted\u001b[0m\u001b[0;34m(\u001b[0m\u001b[0mself\u001b[0m\u001b[0;34m)\u001b[0m\u001b[0;34m\u001b[0m\u001b[0;34m\u001b[0m\u001b[0m\n\u001b[1;32m    406\u001b[0m \u001b[0;34m\u001b[0m\u001b[0m\n\u001b[0;32m--> 407\u001b[0;31m         \u001b[0mX\u001b[0m \u001b[0;34m=\u001b[0m \u001b[0mself\u001b[0m\u001b[0;34m.\u001b[0m\u001b[0m_validate_data\u001b[0m\u001b[0;34m(\u001b[0m\u001b[0mX\u001b[0m\u001b[0;34m,\u001b[0m \u001b[0maccept_sparse\u001b[0m\u001b[0;34m=\u001b[0m\u001b[0;34m\"csr\"\u001b[0m\u001b[0;34m,\u001b[0m \u001b[0mreset\u001b[0m\u001b[0;34m=\u001b[0m\u001b[0;32mFalse\u001b[0m\u001b[0;34m)\u001b[0m\u001b[0;34m\u001b[0m\u001b[0;34m\u001b[0m\u001b[0m\n\u001b[0m\u001b[1;32m    408\u001b[0m         \u001b[0mscores\u001b[0m \u001b[0;34m=\u001b[0m \u001b[0msafe_sparse_dot\u001b[0m\u001b[0;34m(\u001b[0m\u001b[0mX\u001b[0m\u001b[0;34m,\u001b[0m \u001b[0mself\u001b[0m\u001b[0;34m.\u001b[0m\u001b[0mcoef_\u001b[0m\u001b[0;34m.\u001b[0m\u001b[0mT\u001b[0m\u001b[0;34m,\u001b[0m \u001b[0mdense_output\u001b[0m\u001b[0;34m=\u001b[0m\u001b[0;32mTrue\u001b[0m\u001b[0;34m)\u001b[0m \u001b[0;34m+\u001b[0m \u001b[0mself\u001b[0m\u001b[0;34m.\u001b[0m\u001b[0mintercept_\u001b[0m\u001b[0;34m\u001b[0m\u001b[0;34m\u001b[0m\u001b[0m\n\u001b[1;32m    409\u001b[0m         \u001b[0;32mreturn\u001b[0m \u001b[0mscores\u001b[0m\u001b[0;34m.\u001b[0m\u001b[0mravel\u001b[0m\u001b[0;34m(\u001b[0m\u001b[0;34m)\u001b[0m \u001b[0;32mif\u001b[0m \u001b[0mscores\u001b[0m\u001b[0;34m.\u001b[0m\u001b[0mshape\u001b[0m\u001b[0;34m[\u001b[0m\u001b[0;36m1\u001b[0m\u001b[0;34m]\u001b[0m \u001b[0;34m==\u001b[0m \u001b[0;36m1\u001b[0m \u001b[0;32melse\u001b[0m \u001b[0mscores\u001b[0m\u001b[0;34m\u001b[0m\u001b[0;34m\u001b[0m\u001b[0m\n",
      "\u001b[0;32m/opt/anaconda3/envs/my-rdkit-env/lib/python3.7/site-packages/sklearn/base.py\u001b[0m in \u001b[0;36m_validate_data\u001b[0;34m(self, X, y, reset, validate_separately, **check_params)\u001b[0m\n\u001b[1;32m    564\u001b[0m             \u001b[0;32mraise\u001b[0m \u001b[0mValueError\u001b[0m\u001b[0;34m(\u001b[0m\u001b[0;34m\"Validation should be done on X, y or both.\"\u001b[0m\u001b[0;34m)\u001b[0m\u001b[0;34m\u001b[0m\u001b[0;34m\u001b[0m\u001b[0m\n\u001b[1;32m    565\u001b[0m         \u001b[0;32melif\u001b[0m \u001b[0;32mnot\u001b[0m \u001b[0mno_val_X\u001b[0m \u001b[0;32mand\u001b[0m \u001b[0mno_val_y\u001b[0m\u001b[0;34m:\u001b[0m\u001b[0;34m\u001b[0m\u001b[0;34m\u001b[0m\u001b[0m\n\u001b[0;32m--> 566\u001b[0;31m             \u001b[0mX\u001b[0m \u001b[0;34m=\u001b[0m \u001b[0mcheck_array\u001b[0m\u001b[0;34m(\u001b[0m\u001b[0mX\u001b[0m\u001b[0;34m,\u001b[0m \u001b[0;34m**\u001b[0m\u001b[0mcheck_params\u001b[0m\u001b[0;34m)\u001b[0m\u001b[0;34m\u001b[0m\u001b[0;34m\u001b[0m\u001b[0m\n\u001b[0m\u001b[1;32m    567\u001b[0m             \u001b[0mout\u001b[0m \u001b[0;34m=\u001b[0m \u001b[0mX\u001b[0m\u001b[0;34m\u001b[0m\u001b[0;34m\u001b[0m\u001b[0m\n\u001b[1;32m    568\u001b[0m         \u001b[0;32melif\u001b[0m \u001b[0mno_val_X\u001b[0m \u001b[0;32mand\u001b[0m \u001b[0;32mnot\u001b[0m \u001b[0mno_val_y\u001b[0m\u001b[0;34m:\u001b[0m\u001b[0;34m\u001b[0m\u001b[0;34m\u001b[0m\u001b[0m\n",
      "\u001b[0;32m/opt/anaconda3/envs/my-rdkit-env/lib/python3.7/site-packages/sklearn/utils/validation.py\u001b[0m in \u001b[0;36mcheck_array\u001b[0;34m(array, accept_sparse, accept_large_sparse, dtype, order, copy, force_all_finite, ensure_2d, allow_nd, ensure_min_samples, ensure_min_features, estimator)\u001b[0m\n\u001b[1;32m    615\u001b[0m     \u001b[0mdtypes_orig\u001b[0m \u001b[0;34m=\u001b[0m \u001b[0;32mNone\u001b[0m\u001b[0;34m\u001b[0m\u001b[0;34m\u001b[0m\u001b[0m\n\u001b[1;32m    616\u001b[0m     \u001b[0mhas_pd_integer_array\u001b[0m \u001b[0;34m=\u001b[0m \u001b[0;32mFalse\u001b[0m\u001b[0;34m\u001b[0m\u001b[0;34m\u001b[0m\u001b[0m\n\u001b[0;32m--> 617\u001b[0;31m     \u001b[0;32mif\u001b[0m \u001b[0mhasattr\u001b[0m\u001b[0;34m(\u001b[0m\u001b[0marray\u001b[0m\u001b[0;34m,\u001b[0m \u001b[0;34m\"dtypes\"\u001b[0m\u001b[0;34m)\u001b[0m \u001b[0;32mand\u001b[0m \u001b[0mhasattr\u001b[0m\u001b[0;34m(\u001b[0m\u001b[0marray\u001b[0m\u001b[0;34m.\u001b[0m\u001b[0mdtypes\u001b[0m\u001b[0;34m,\u001b[0m \u001b[0;34m\"__array__\"\u001b[0m\u001b[0;34m)\u001b[0m\u001b[0;34m:\u001b[0m\u001b[0;34m\u001b[0m\u001b[0;34m\u001b[0m\u001b[0m\n\u001b[0m\u001b[1;32m    618\u001b[0m         \u001b[0;31m# throw warning if columns are sparse. If all columns are sparse, then\u001b[0m\u001b[0;34m\u001b[0m\u001b[0;34m\u001b[0m\u001b[0;34m\u001b[0m\u001b[0m\n\u001b[1;32m    619\u001b[0m         \u001b[0;31m# array.sparse exists and sparsity will be preserved (later).\u001b[0m\u001b[0;34m\u001b[0m\u001b[0;34m\u001b[0m\u001b[0;34m\u001b[0m\u001b[0m\n",
      "\u001b[0;32m/opt/anaconda3/envs/my-rdkit-env/lib/python3.7/site-packages/pandas/core/generic.py\u001b[0m in \u001b[0;36mdtypes\u001b[0;34m(self)\u001b[0m\n\u001b[1;32m   5656\u001b[0m         \u001b[0mdtype\u001b[0m\u001b[0;34m:\u001b[0m \u001b[0mobject\u001b[0m\u001b[0;34m\u001b[0m\u001b[0;34m\u001b[0m\u001b[0m\n\u001b[1;32m   5657\u001b[0m         \"\"\"\n\u001b[0;32m-> 5658\u001b[0;31m         \u001b[0mdata\u001b[0m \u001b[0;34m=\u001b[0m \u001b[0mself\u001b[0m\u001b[0;34m.\u001b[0m\u001b[0m_mgr\u001b[0m\u001b[0;34m.\u001b[0m\u001b[0mget_dtypes\u001b[0m\u001b[0;34m(\u001b[0m\u001b[0;34m)\u001b[0m\u001b[0;34m\u001b[0m\u001b[0;34m\u001b[0m\u001b[0m\n\u001b[0m\u001b[1;32m   5659\u001b[0m         \u001b[0;32mreturn\u001b[0m \u001b[0mself\u001b[0m\u001b[0;34m.\u001b[0m\u001b[0m_constructor_sliced\u001b[0m\u001b[0;34m(\u001b[0m\u001b[0mdata\u001b[0m\u001b[0;34m,\u001b[0m \u001b[0mindex\u001b[0m\u001b[0;34m=\u001b[0m\u001b[0mself\u001b[0m\u001b[0;34m.\u001b[0m\u001b[0m_info_axis\u001b[0m\u001b[0;34m,\u001b[0m \u001b[0mdtype\u001b[0m\u001b[0;34m=\u001b[0m\u001b[0mnp\u001b[0m\u001b[0;34m.\u001b[0m\u001b[0mobject_\u001b[0m\u001b[0;34m)\u001b[0m\u001b[0;34m\u001b[0m\u001b[0;34m\u001b[0m\u001b[0m\n\u001b[1;32m   5660\u001b[0m \u001b[0;34m\u001b[0m\u001b[0m\n",
      "\u001b[0;32m/opt/anaconda3/envs/my-rdkit-env/lib/python3.7/site-packages/pandas/core/internals/managers.py\u001b[0m in \u001b[0;36mget_dtypes\u001b[0;34m(self)\u001b[0m\n\u001b[1;32m    248\u001b[0m \u001b[0;34m\u001b[0m\u001b[0m\n\u001b[1;32m    249\u001b[0m     \u001b[0;32mdef\u001b[0m \u001b[0mget_dtypes\u001b[0m\u001b[0;34m(\u001b[0m\u001b[0mself\u001b[0m\u001b[0;34m)\u001b[0m\u001b[0;34m:\u001b[0m\u001b[0;34m\u001b[0m\u001b[0;34m\u001b[0m\u001b[0m\n\u001b[0;32m--> 250\u001b[0;31m         \u001b[0mdtypes\u001b[0m \u001b[0;34m=\u001b[0m \u001b[0mnp\u001b[0m\u001b[0;34m.\u001b[0m\u001b[0marray\u001b[0m\u001b[0;34m(\u001b[0m\u001b[0;34m[\u001b[0m\u001b[0mblk\u001b[0m\u001b[0;34m.\u001b[0m\u001b[0mdtype\u001b[0m \u001b[0;32mfor\u001b[0m \u001b[0mblk\u001b[0m \u001b[0;32min\u001b[0m \u001b[0mself\u001b[0m\u001b[0;34m.\u001b[0m\u001b[0mblocks\u001b[0m\u001b[0;34m]\u001b[0m\u001b[0;34m)\u001b[0m\u001b[0;34m\u001b[0m\u001b[0;34m\u001b[0m\u001b[0m\n\u001b[0m\u001b[1;32m    251\u001b[0m         \u001b[0;32mreturn\u001b[0m \u001b[0mdtypes\u001b[0m\u001b[0;34m.\u001b[0m\u001b[0mtake\u001b[0m\u001b[0;34m(\u001b[0m\u001b[0mself\u001b[0m\u001b[0;34m.\u001b[0m\u001b[0mblknos\u001b[0m\u001b[0;34m)\u001b[0m\u001b[0;34m\u001b[0m\u001b[0;34m\u001b[0m\u001b[0m\n\u001b[1;32m    252\u001b[0m \u001b[0;34m\u001b[0m\u001b[0m\n",
      "\u001b[0;31mKeyboardInterrupt\u001b[0m: "
     ]
    }
   ],
   "source": [
    "freq_thresh = 9\n",
    "max_desc = 5\n",
    "\n",
    "best_scores = []\n",
    "best_combs = []\n",
    "\n",
    "for i in range(max_desc):\n",
    "    print (i)\n",
    "    [best_comb, best_score,best_test_score,_,_] = best_desc_comb(desc_rank,freq_thresh,i+1,x,y,test_molecules_2,test_molecules_2['Experimental'])\n",
    "    best_combs.append(best_comb)\n",
    "    best_scores.append(best_score)"
   ]
  },
  {
   "cell_type": "code",
   "execution_count": 226,
   "id": "139bbb87",
   "metadata": {},
   "outputs": [
    {
     "data": {
      "text/plain": [
       "'657800/657800'"
      ]
     },
     "metadata": {},
     "output_type": "display_data"
    },
    {
     "name": "stdout",
     "output_type": "stream",
     "text": [
      "Maximum score of: 0.9556451612903225  for  ('B03[N-O]', 'B09[N-O]', 'Infective-80', 'Mor32m', 'B05[N-F]', 's4_numAroBonds', 'B08[O-O]')\n"
     ]
    }
   ],
   "source": [
    "freq_thresh = 9\n",
    "max_desc = 7\n",
    "\n",
    "best_scores = []\n",
    "best_combs = []\n",
    "\n",
    "for i in range(max_desc):\n",
    "    print (i)\n",
    "    [best_comb, best_score,_,_] = best_desc_comb(desc_rank,freq_thresh,i+1)\n",
    "    best_combs.append(best_comb)\n",
    "    best_scores.append(best_score)"
   ]
  },
  {
   "cell_type": "code",
   "execution_count": 97,
   "id": "843245d7",
   "metadata": {},
   "outputs": [
    {
     "data": {
      "text/html": [
       "<div>\n",
       "<style scoped>\n",
       "    .dataframe tbody tr th:only-of-type {\n",
       "        vertical-align: middle;\n",
       "    }\n",
       "\n",
       "    .dataframe tbody tr th {\n",
       "        vertical-align: top;\n",
       "    }\n",
       "\n",
       "    .dataframe thead th {\n",
       "        text-align: right;\n",
       "    }\n",
       "</style>\n",
       "<table border=\"1\" class=\"dataframe\">\n",
       "  <thead>\n",
       "    <tr style=\"text-align: right;\">\n",
       "      <th></th>\n",
       "      <th>Descriptors</th>\n",
       "      <th>Scores</th>\n",
       "    </tr>\n",
       "  </thead>\n",
       "  <tbody>\n",
       "    <tr>\n",
       "      <th>0</th>\n",
       "      <td>[Mor32m]</td>\n",
       "      <td>0.843638</td>\n",
       "    </tr>\n",
       "    <tr>\n",
       "      <th>1</th>\n",
       "      <td>[Mor32m, Mor25m]</td>\n",
       "      <td>0.879480</td>\n",
       "    </tr>\n",
       "    <tr>\n",
       "      <th>2</th>\n",
       "      <td>[Mor32m, ALOGP2, VE1sign_RG]</td>\n",
       "      <td>0.939516</td>\n",
       "    </tr>\n",
       "  </tbody>\n",
       "</table>\n",
       "</div>"
      ],
      "text/plain": [
       "                    Descriptors    Scores\n",
       "0                      [Mor32m]  0.843638\n",
       "1              [Mor32m, Mor25m]  0.879480\n",
       "2  [Mor32m, ALOGP2, VE1sign_RG]  0.939516"
      ]
     },
     "execution_count": 97,
     "metadata": {},
     "output_type": "execute_result"
    }
   ],
   "source": [
    "best_comb_scores = pd.DataFrame()\n",
    "best_comb_scores['Descriptors'] = best_combs\n",
    "best_comb_scores['Scores'] = best_scores\n",
    "best_comb_scores"
   ]
  },
  {
   "cell_type": "code",
   "execution_count": 122,
   "id": "d1f5a4e9",
   "metadata": {},
   "outputs": [],
   "source": [
    "best1 = ['Mor32m']\n",
    "best2 = ['Mor32m', 'Mor25m']\n",
    "best3 = ['Mor32m', 'ALOGP2', 'VE1sign_RG']\n",
    "best4 = ['Mor32m', 'ALOGP2', 'B05[N-F]', 'VE1sign_RG']\n",
    "best5 = ['Mor32m', 'NaaaC', 'ALOGP2', 'VE1sign_RG', 'B04[N-O]']\n",
    "best6 = ['B03[N-O]', 'Infective-80', 'Mor32m', 'B05[N-F]', 's4_numAroBonds', 'B08[O-O]']\n",
    "best7 = ['B03[N-O]', 'B09[N-O]', 'Infective-80', 'Mor32m', 'B05[N-F]', 's4_numAroBonds', 'B08[O-O]']"
   ]
  },
  {
   "cell_type": "code",
   "execution_count": 131,
   "id": "20bd8801",
   "metadata": {},
   "outputs": [
    {
     "name": "stdout",
     "output_type": "stream",
     "text": [
      "0.86875\n"
     ]
    }
   ],
   "source": [
    "desc_sel = best4\n",
    "clf.fit(x[desc_sel],y)\n",
    "print(balanced_accuracy_score(test_molecules_2['Experimental'],clf.predict(test_molecules_2[desc_sel])))"
   ]
  },
  {
   "cell_type": "code",
   "execution_count": 76,
   "id": "fa347c4d",
   "metadata": {},
   "outputs": [
    {
     "data": {
      "image/png": "[encoded data removed]",
      "text/plain": [
       "<Figure size 432x288 with 2 Axes>"
      ]
     },
     "metadata": {
      "needs_background": "light"
     },
     "output_type": "display_data"
    },
    {
     "name": "stdout",
     "output_type": "stream",
     "text": [
      "0.84375\n"
     ]
    }
   ],
   "source": [
    "desc_sel = best5\n",
    "clf.fit(x[desc_sel],y)\n",
    "predictions = clf.predict(test_molecules_3[desc_sel])\n",
    "cm = confusion_matrix(test_molecules_3['Experimental'], predictions, labels=clf.classes_)\n",
    "disp = ConfusionMatrixDisplay(confusion_matrix=cm,display_labels=clf.classes_)\n",
    "disp.plot()\n",
    "\n",
    "plt.show()\n",
    "#print(balanced_accuracy_score(test_molecules_3['Experimental'],clf.predict(test_molecules_3[feat_r[N_best]])))\n",
    "print(balanced_accuracy_score(test_molecules_3['Experimental'],clf.predict(test_molecules_3[desc_sel])))\n"
   ]
  },
  {
   "cell_type": "code",
   "execution_count": 11,
   "id": "cd85dbce",
   "metadata": {},
   "outputs": [
    {
     "data": {
      "text/plain": [
       "<function sklearn.metrics._classification.balanced_accuracy_score(y_true, y_pred, *, sample_weight=None, adjusted=False)>"
      ]
     },
     "execution_count": 11,
     "metadata": {},
     "output_type": "execute_result"
    }
   ],
   "source": [
    "balanced_accuracy_score\n"
   ]
  },
  {
   "cell_type": "code",
   "execution_count": 13,
   "id": "e4b76ac0",
   "metadata": {},
   "outputs": [
    {
     "data": {
      "text/html": [
       "<div>\n",
       "<style scoped>\n",
       "    .dataframe tbody tr th:only-of-type {\n",
       "        vertical-align: middle;\n",
       "    }\n",
       "\n",
       "    .dataframe tbody tr th {\n",
       "        vertical-align: top;\n",
       "    }\n",
       "\n",
       "    .dataframe thead th {\n",
       "        text-align: right;\n",
       "    }\n",
       "</style>\n",
       "<table border=\"1\" class=\"dataframe\">\n",
       "  <thead>\n",
       "    <tr style=\"text-align: right;\">\n",
       "      <th></th>\n",
       "      <th>Name</th>\n",
       "      <th>SMILES</th>\n",
       "      <th>prediction</th>\n",
       "    </tr>\n",
       "  </thead>\n",
       "  <tbody>\n",
       "    <tr>\n",
       "      <th>0</th>\n",
       "      <td>Amiodarone</td>\n",
       "      <td>CCCCC1=C(C2=CC=CC=C2O1)C(=O)C3=CC(=C(C(=C3)I)O...</td>\n",
       "      <td>True</td>\n",
       "    </tr>\n",
       "    <tr>\n",
       "      <th>1</th>\n",
       "      <td>Apilimod</td>\n",
       "      <td>CC1=CC(=CC=C1)C=NNC2=CC(=NC(=N2)OCCC3=CC=CC=N3...</td>\n",
       "      <td>False</td>\n",
       "    </tr>\n",
       "    <tr>\n",
       "      <th>2</th>\n",
       "      <td>Chlorpromazine</td>\n",
       "      <td>CN(C)CCCN1C2=CC=CC=C2SC3=C1C=C(C=C3)Cl</td>\n",
       "      <td>False</td>\n",
       "    </tr>\n",
       "    <tr>\n",
       "      <th>3</th>\n",
       "      <td>Emetine</td>\n",
       "      <td>CCC1CN2CCC3=CC(=C(C=C3C2CC1CC4C5=CC(=C(C=C5CCN...</td>\n",
       "      <td>True</td>\n",
       "    </tr>\n",
       "    <tr>\n",
       "      <th>4</th>\n",
       "      <td>Emetine analog</td>\n",
       "      <td>CC[C@@H]1[C@@H](C[C@H](C2=C3)N(CCCCCCCC/C=C\\CC...</td>\n",
       "      <td>False</td>\n",
       "    </tr>\n",
       "    <tr>\n",
       "      <th>5</th>\n",
       "      <td>Levofloxacin</td>\n",
       "      <td>CC1COC2=C3N1C=C(C(=O)C3=CC(=C2N4CCN(CC4)C)F)C(...</td>\n",
       "      <td>False</td>\n",
       "    </tr>\n",
       "    <tr>\n",
       "      <th>6</th>\n",
       "      <td>MC3</td>\n",
       "      <td>CCCCCC=CCC=CCCCCCCCCC(CCCCCCCCC=CCC=CCCCCC)OC(...</td>\n",
       "      <td>False</td>\n",
       "    </tr>\n",
       "    <tr>\n",
       "      <th>7</th>\n",
       "      <td>Netarsudil</td>\n",
       "      <td>CC1=CC(=C(C=C1)C(=O)OCC2=CC=C(C=C2)C(CN)C(=O)N...</td>\n",
       "      <td>True</td>\n",
       "    </tr>\n",
       "    <tr>\n",
       "      <th>8</th>\n",
       "      <td>Siramesine</td>\n",
       "      <td>C1CN(CCC12C3=CC=CC=C3CO2)CCCCC4=CN(C5=CC=CC=C5...</td>\n",
       "      <td>True</td>\n",
       "    </tr>\n",
       "    <tr>\n",
       "      <th>9</th>\n",
       "      <td>Sorafenib</td>\n",
       "      <td>CNC(=O)C1=NC=CC(=C1)OC2=CC=C(C=C2)NC(=O)NC3=CC...</td>\n",
       "      <td>True</td>\n",
       "    </tr>\n",
       "    <tr>\n",
       "      <th>10</th>\n",
       "      <td>Sorafenib analogue</td>\n",
       "      <td>ClC1=C(C(F)(F)F)C=C(C=C1)NC(NC(C=C2)=CC=C2OC3=...</td>\n",
       "      <td>False</td>\n",
       "    </tr>\n",
       "    <tr>\n",
       "      <th>11</th>\n",
       "      <td>Tamoxifen</td>\n",
       "      <td>CCC(=C(C1=CC=CC=C1)C2=CC=C(C=C2)OCCN(C)C)C3=CC...</td>\n",
       "      <td>True</td>\n",
       "    </tr>\n",
       "    <tr>\n",
       "      <th>12</th>\n",
       "      <td>Timolol</td>\n",
       "      <td>CC(C)(C)NCC(COC1=NSN=C1N2CCOCC2)O</td>\n",
       "      <td>False</td>\n",
       "    </tr>\n",
       "    <tr>\n",
       "      <th>13</th>\n",
       "      <td>7a</td>\n",
       "      <td>OC1=CC=C2C(C[C@@H](CCCCCCCCCS(CCCC(F)(F)C(F)(F...</td>\n",
       "      <td>False</td>\n",
       "    </tr>\n",
       "    <tr>\n",
       "      <th>14</th>\n",
       "      <td>7b</td>\n",
       "      <td>OC1=CC=C2C(C[C@@H](CCCCCCCCCS(CCCC(F)(F)C(F)(F...</td>\n",
       "      <td>True</td>\n",
       "    </tr>\n",
       "    <tr>\n",
       "      <th>15</th>\n",
       "      <td>7c</td>\n",
       "      <td>OC1=CC=C2C(C[C@@H](CCCCCCCCCS(CCCC(F)(F)C(F)(F...</td>\n",
       "      <td>True</td>\n",
       "    </tr>\n",
       "    <tr>\n",
       "      <th>16</th>\n",
       "      <td>7d</td>\n",
       "      <td>OC1=CC=C2C(C[C@@H](CCCCCCCCCS(CCCC(F)(F)C(F)(F...</td>\n",
       "      <td>False</td>\n",
       "    </tr>\n",
       "    <tr>\n",
       "      <th>17</th>\n",
       "      <td>7e</td>\n",
       "      <td>OC1=CC=C2C(C[C@@H](CCCCCCCCCS(CCCC(F)(F)C(F)(F...</td>\n",
       "      <td>False</td>\n",
       "    </tr>\n",
       "    <tr>\n",
       "      <th>18</th>\n",
       "      <td>7f</td>\n",
       "      <td>OC1=CC=C2C(C[C@@H](CCCCCCCCCS(CCCC(F)(F)C(F)(F...</td>\n",
       "      <td>False</td>\n",
       "    </tr>\n",
       "    <tr>\n",
       "      <th>19</th>\n",
       "      <td>7g</td>\n",
       "      <td>OC1=CC=C2C(C[C@@H](CCCCCCCCCS(CCCC(F)(F)C(F)(F...</td>\n",
       "      <td>False</td>\n",
       "    </tr>\n",
       "    <tr>\n",
       "      <th>20</th>\n",
       "      <td>7h</td>\n",
       "      <td>OC1=CC=C2C(C[C@@H](CCCCCCCCCS(CCCC(F)(F)C(F)(F...</td>\n",
       "      <td>False</td>\n",
       "    </tr>\n",
       "    <tr>\n",
       "      <th>21</th>\n",
       "      <td>7i</td>\n",
       "      <td>OC1=CC=C2C(C[C@@H](CCCCCCCCCS(CCCC(F)(F)C(F)(F...</td>\n",
       "      <td>False</td>\n",
       "    </tr>\n",
       "    <tr>\n",
       "      <th>22</th>\n",
       "      <td>7j</td>\n",
       "      <td>OC1=CC=C2C(C[C@@H](CCCCCCCCCS(CCCC(F)(F)C(F)(F...</td>\n",
       "      <td>False</td>\n",
       "    </tr>\n",
       "    <tr>\n",
       "      <th>23</th>\n",
       "      <td>7k</td>\n",
       "      <td>OC1=CC=C2C(C[C@@H](CCCCCCCCCS(CCCC(F)(F)C(F)(F...</td>\n",
       "      <td>False</td>\n",
       "    </tr>\n",
       "    <tr>\n",
       "      <th>24</th>\n",
       "      <td>7l</td>\n",
       "      <td>OC1=CC=C2C(C[C@@H](CCCCCCCCCS(CCCC(F)(F)C(F)(F...</td>\n",
       "      <td>True</td>\n",
       "    </tr>\n",
       "    <tr>\n",
       "      <th>25</th>\n",
       "      <td>7m</td>\n",
       "      <td>OC1=CC=C2C(C[C@@H](CCCCCCCCCS(CCCC(F)(F)C(F)(F...</td>\n",
       "      <td>False</td>\n",
       "    </tr>\n",
       "  </tbody>\n",
       "</table>\n",
       "</div>"
      ],
      "text/plain": [
       "                  Name                                             SMILES  \\\n",
       "0           Amiodarone  CCCCC1=C(C2=CC=CC=C2O1)C(=O)C3=CC(=C(C(=C3)I)O...   \n",
       "1             Apilimod  CC1=CC(=CC=C1)C=NNC2=CC(=NC(=N2)OCCC3=CC=CC=N3...   \n",
       "2       Chlorpromazine             CN(C)CCCN1C2=CC=CC=C2SC3=C1C=C(C=C3)Cl   \n",
       "3              Emetine  CCC1CN2CCC3=CC(=C(C=C3C2CC1CC4C5=CC(=C(C=C5CCN...   \n",
       "4       Emetine analog  CC[C@@H]1[C@@H](C[C@H](C2=C3)N(CCCCCCCC/C=C\\CC...   \n",
       "5         Levofloxacin  CC1COC2=C3N1C=C(C(=O)C3=CC(=C2N4CCN(CC4)C)F)C(...   \n",
       "6                  MC3  CCCCCC=CCC=CCCCCCCCCC(CCCCCCCCC=CCC=CCCCCC)OC(...   \n",
       "7           Netarsudil  CC1=CC(=C(C=C1)C(=O)OCC2=CC=C(C=C2)C(CN)C(=O)N...   \n",
       "8           Siramesine  C1CN(CCC12C3=CC=CC=C3CO2)CCCCC4=CN(C5=CC=CC=C5...   \n",
       "9            Sorafenib  CNC(=O)C1=NC=CC(=C1)OC2=CC=C(C=C2)NC(=O)NC3=CC...   \n",
       "10  Sorafenib analogue  ClC1=C(C(F)(F)F)C=C(C=C1)NC(NC(C=C2)=CC=C2OC3=...   \n",
       "11           Tamoxifen  CCC(=C(C1=CC=CC=C1)C2=CC=C(C=C2)OCCN(C)C)C3=CC...   \n",
       "12             Timolol                  CC(C)(C)NCC(COC1=NSN=C1N2CCOCC2)O   \n",
       "13                  7a  OC1=CC=C2C(C[C@@H](CCCCCCCCCS(CCCC(F)(F)C(F)(F...   \n",
       "14                  7b  OC1=CC=C2C(C[C@@H](CCCCCCCCCS(CCCC(F)(F)C(F)(F...   \n",
       "15                  7c  OC1=CC=C2C(C[C@@H](CCCCCCCCCS(CCCC(F)(F)C(F)(F...   \n",
       "16                  7d  OC1=CC=C2C(C[C@@H](CCCCCCCCCS(CCCC(F)(F)C(F)(F...   \n",
       "17                  7e  OC1=CC=C2C(C[C@@H](CCCCCCCCCS(CCCC(F)(F)C(F)(F...   \n",
       "18                  7f  OC1=CC=C2C(C[C@@H](CCCCCCCCCS(CCCC(F)(F)C(F)(F...   \n",
       "19                  7g  OC1=CC=C2C(C[C@@H](CCCCCCCCCS(CCCC(F)(F)C(F)(F...   \n",
       "20                  7h  OC1=CC=C2C(C[C@@H](CCCCCCCCCS(CCCC(F)(F)C(F)(F...   \n",
       "21                  7i  OC1=CC=C2C(C[C@@H](CCCCCCCCCS(CCCC(F)(F)C(F)(F...   \n",
       "22                  7j  OC1=CC=C2C(C[C@@H](CCCCCCCCCS(CCCC(F)(F)C(F)(F...   \n",
       "23                  7k  OC1=CC=C2C(C[C@@H](CCCCCCCCCS(CCCC(F)(F)C(F)(F...   \n",
       "24                  7l  OC1=CC=C2C(C[C@@H](CCCCCCCCCS(CCCC(F)(F)C(F)(F...   \n",
       "25                  7m  OC1=CC=C2C(C[C@@H](CCCCCCCCCS(CCCC(F)(F)C(F)(F...   \n",
       "\n",
       "    prediction  \n",
       "0         True  \n",
       "1        False  \n",
       "2        False  \n",
       "3         True  \n",
       "4        False  \n",
       "5        False  \n",
       "6        False  \n",
       "7         True  \n",
       "8         True  \n",
       "9         True  \n",
       "10       False  \n",
       "11        True  \n",
       "12       False  \n",
       "13       False  \n",
       "14        True  \n",
       "15        True  \n",
       "16       False  \n",
       "17       False  \n",
       "18       False  \n",
       "19       False  \n",
       "20       False  \n",
       "21       False  \n",
       "22       False  \n",
       "23       False  \n",
       "24        True  \n",
       "25       False  "
      ]
     },
     "execution_count": 13,
     "metadata": {},
     "output_type": "execute_result"
    }
   ],
   "source": [
    "molecules\n"
   ]
  },
  {
   "cell_type": "code",
   "execution_count": 14,
   "id": "9ca94549",
   "metadata": {},
   "outputs": [],
   "source": [
    "molecules['experimental'] = [True,True,True,False,True,False,True,True,True,False,True,True,False,True,True,True,True,True,True,True,True,True,True,True,True,True]"
   ]
  },
  {
   "cell_type": "code",
   "execution_count": 28,
   "id": "3bd9f281",
   "metadata": {},
   "outputs": [
    {
     "data": {
      "text/plain": [
       "0.34615384615384615"
      ]
     },
     "execution_count": 28,
     "metadata": {},
     "output_type": "execute_result"
    }
   ],
   "source": [
    "sum(molecules['prediction']==molecules['experimental'])/len(molecules['prediction'])\n"
   ]
  },
  {
   "cell_type": "code",
   "execution_count": 19,
   "id": "0ae92935",
   "metadata": {},
   "outputs": [
    {
     "data": {
      "text/html": [
       "<div>\n",
       "<style scoped>\n",
       "    .dataframe tbody tr th:only-of-type {\n",
       "        vertical-align: middle;\n",
       "    }\n",
       "\n",
       "    .dataframe tbody tr th {\n",
       "        vertical-align: top;\n",
       "    }\n",
       "\n",
       "    .dataframe thead th {\n",
       "        text-align: right;\n",
       "    }\n",
       "</style>\n",
       "<table border=\"1\" class=\"dataframe\">\n",
       "  <thead>\n",
       "    <tr style=\"text-align: right;\">\n",
       "      <th></th>\n",
       "      <th>Name</th>\n",
       "      <th>SMILES</th>\n",
       "    </tr>\n",
       "  </thead>\n",
       "  <tbody>\n",
       "    <tr>\n",
       "      <th>0</th>\n",
       "      <td>Amiodarone</td>\n",
       "      <td>CCCCC1=C(C2=CC=CC=C2O1)C(=O)C3=CC(=C(C(=C3)I)O...</td>\n",
       "    </tr>\n",
       "    <tr>\n",
       "      <th>1</th>\n",
       "      <td>Apilimod</td>\n",
       "      <td>CC1=CC(=CC=C1)C=NNC2=CC(=NC(=N2)OCCC3=CC=CC=N3...</td>\n",
       "    </tr>\n",
       "    <tr>\n",
       "      <th>2</th>\n",
       "      <td>Chlorpromazine</td>\n",
       "      <td>CN(C)CCCN1C2=CC=CC=C2SC3=C1C=C(C=C3)Cl</td>\n",
       "    </tr>\n",
       "    <tr>\n",
       "      <th>3</th>\n",
       "      <td>Emetine</td>\n",
       "      <td>CCC1CN2CCC3=CC(=C(C=C3C2CC1CC4C5=CC(=C(C=C5CCN...</td>\n",
       "    </tr>\n",
       "    <tr>\n",
       "      <th>4</th>\n",
       "      <td>Emetine analog</td>\n",
       "      <td>CC[C@@H]1[C@@H](C[C@H](C2=C3)N(CCCCCCCC/C=C\\CC...</td>\n",
       "    </tr>\n",
       "    <tr>\n",
       "      <th>5</th>\n",
       "      <td>Levofloxacin</td>\n",
       "      <td>CC1COC2=C3N1C=C(C(=O)C3=CC(=C2N4CCN(CC4)C)F)C(...</td>\n",
       "    </tr>\n",
       "    <tr>\n",
       "      <th>6</th>\n",
       "      <td>MC3</td>\n",
       "      <td>CCCCCC=CCC=CCCCCCCCCC(CCCCCCCCC=CCC=CCCCCC)OC(...</td>\n",
       "    </tr>\n",
       "    <tr>\n",
       "      <th>7</th>\n",
       "      <td>Netarsudil</td>\n",
       "      <td>CC1=CC(=C(C=C1)C(=O)OCC2=CC=C(C=C2)C(CN)C(=O)N...</td>\n",
       "    </tr>\n",
       "    <tr>\n",
       "      <th>8</th>\n",
       "      <td>Siramesine</td>\n",
       "      <td>C1CN(CCC12C3=CC=CC=C3CO2)CCCCC4=CN(C5=CC=CC=C5...</td>\n",
       "    </tr>\n",
       "    <tr>\n",
       "      <th>9</th>\n",
       "      <td>Sorafenib</td>\n",
       "      <td>CNC(=O)C1=NC=CC(=C1)OC2=CC=C(C=C2)NC(=O)NC3=CC...</td>\n",
       "    </tr>\n",
       "    <tr>\n",
       "      <th>10</th>\n",
       "      <td>Sorafenib analogue</td>\n",
       "      <td>ClC1=C(C(F)(F)F)C=C(C=C1)NC(NC(C=C2)=CC=C2OC3=...</td>\n",
       "    </tr>\n",
       "    <tr>\n",
       "      <th>11</th>\n",
       "      <td>Tamoxifen</td>\n",
       "      <td>CCC(=C(C1=CC=CC=C1)C2=CC=C(C=C2)OCCN(C)C)C3=CC...</td>\n",
       "    </tr>\n",
       "    <tr>\n",
       "      <th>12</th>\n",
       "      <td>Timolol</td>\n",
       "      <td>CC(C)(C)NCC(COC1=NSN=C1N2CCOCC2)O</td>\n",
       "    </tr>\n",
       "    <tr>\n",
       "      <th>13</th>\n",
       "      <td>7a</td>\n",
       "      <td>OC1=CC=C2C(C[C@@H](CCCCCCCCCS(CCCC(F)(F)C(F)(F...</td>\n",
       "    </tr>\n",
       "    <tr>\n",
       "      <th>14</th>\n",
       "      <td>7b</td>\n",
       "      <td>OC1=CC=C2C(C[C@@H](CCCCCCCCCS(CCCC(F)(F)C(F)(F...</td>\n",
       "    </tr>\n",
       "    <tr>\n",
       "      <th>15</th>\n",
       "      <td>7c</td>\n",
       "      <td>OC1=CC=C2C(C[C@@H](CCCCCCCCCS(CCCC(F)(F)C(F)(F...</td>\n",
       "    </tr>\n",
       "    <tr>\n",
       "      <th>16</th>\n",
       "      <td>7d</td>\n",
       "      <td>OC1=CC=C2C(C[C@@H](CCCCCCCCCS(CCCC(F)(F)C(F)(F...</td>\n",
       "    </tr>\n",
       "    <tr>\n",
       "      <th>17</th>\n",
       "      <td>7e</td>\n",
       "      <td>OC1=CC=C2C(C[C@@H](CCCCCCCCCS(CCCC(F)(F)C(F)(F...</td>\n",
       "    </tr>\n",
       "    <tr>\n",
       "      <th>18</th>\n",
       "      <td>7f</td>\n",
       "      <td>OC1=CC=C2C(C[C@@H](CCCCCCCCCS(CCCC(F)(F)C(F)(F...</td>\n",
       "    </tr>\n",
       "    <tr>\n",
       "      <th>19</th>\n",
       "      <td>7g</td>\n",
       "      <td>OC1=CC=C2C(C[C@@H](CCCCCCCCCS(CCCC(F)(F)C(F)(F...</td>\n",
       "    </tr>\n",
       "    <tr>\n",
       "      <th>20</th>\n",
       "      <td>7h</td>\n",
       "      <td>OC1=CC=C2C(C[C@@H](CCCCCCCCCS(CCCC(F)(F)C(F)(F...</td>\n",
       "    </tr>\n",
       "    <tr>\n",
       "      <th>21</th>\n",
       "      <td>7i</td>\n",
       "      <td>OC1=CC=C2C(C[C@@H](CCCCCCCCCS(CCCC(F)(F)C(F)(F...</td>\n",
       "    </tr>\n",
       "    <tr>\n",
       "      <th>22</th>\n",
       "      <td>7j</td>\n",
       "      <td>OC1=CC=C2C(C[C@@H](CCCCCCCCCS(CCCC(F)(F)C(F)(F...</td>\n",
       "    </tr>\n",
       "    <tr>\n",
       "      <th>23</th>\n",
       "      <td>7k</td>\n",
       "      <td>OC1=CC=C2C(C[C@@H](CCCCCCCCCS(CCCC(F)(F)C(F)(F...</td>\n",
       "    </tr>\n",
       "    <tr>\n",
       "      <th>24</th>\n",
       "      <td>7l</td>\n",
       "      <td>OC1=CC=C2C(C[C@@H](CCCCCCCCCS(CCCC(F)(F)C(F)(F...</td>\n",
       "    </tr>\n",
       "    <tr>\n",
       "      <th>25</th>\n",
       "      <td>7m</td>\n",
       "      <td>OC1=CC=C2C(C[C@@H](CCCCCCCCCS(CCCC(F)(F)C(F)(F...</td>\n",
       "    </tr>\n",
       "  </tbody>\n",
       "</table>\n",
       "</div>"
      ],
      "text/plain": [
       "                  Name                                             SMILES\n",
       "0           Amiodarone  CCCCC1=C(C2=CC=CC=C2O1)C(=O)C3=CC(=C(C(=C3)I)O...\n",
       "1             Apilimod  CC1=CC(=CC=C1)C=NNC2=CC(=NC(=N2)OCCC3=CC=CC=N3...\n",
       "2       Chlorpromazine             CN(C)CCCN1C2=CC=CC=C2SC3=C1C=C(C=C3)Cl\n",
       "3              Emetine  CCC1CN2CCC3=CC(=C(C=C3C2CC1CC4C5=CC(=C(C=C5CCN...\n",
       "4       Emetine analog  CC[C@@H]1[C@@H](C[C@H](C2=C3)N(CCCCCCCC/C=C\\CC...\n",
       "5         Levofloxacin  CC1COC2=C3N1C=C(C(=O)C3=CC(=C2N4CCN(CC4)C)F)C(...\n",
       "6                  MC3  CCCCCC=CCC=CCCCCCCCCC(CCCCCCCCC=CCC=CCCCCC)OC(...\n",
       "7           Netarsudil  CC1=CC(=C(C=C1)C(=O)OCC2=CC=C(C=C2)C(CN)C(=O)N...\n",
       "8           Siramesine  C1CN(CCC12C3=CC=CC=C3CO2)CCCCC4=CN(C5=CC=CC=C5...\n",
       "9            Sorafenib  CNC(=O)C1=NC=CC(=C1)OC2=CC=C(C=C2)NC(=O)NC3=CC...\n",
       "10  Sorafenib analogue  ClC1=C(C(F)(F)F)C=C(C=C1)NC(NC(C=C2)=CC=C2OC3=...\n",
       "11           Tamoxifen  CCC(=C(C1=CC=CC=C1)C2=CC=C(C=C2)OCCN(C)C)C3=CC...\n",
       "12             Timolol                  CC(C)(C)NCC(COC1=NSN=C1N2CCOCC2)O\n",
       "13                  7a  OC1=CC=C2C(C[C@@H](CCCCCCCCCS(CCCC(F)(F)C(F)(F...\n",
       "14                  7b  OC1=CC=C2C(C[C@@H](CCCCCCCCCS(CCCC(F)(F)C(F)(F...\n",
       "15                  7c  OC1=CC=C2C(C[C@@H](CCCCCCCCCS(CCCC(F)(F)C(F)(F...\n",
       "16                  7d  OC1=CC=C2C(C[C@@H](CCCCCCCCCS(CCCC(F)(F)C(F)(F...\n",
       "17                  7e  OC1=CC=C2C(C[C@@H](CCCCCCCCCS(CCCC(F)(F)C(F)(F...\n",
       "18                  7f  OC1=CC=C2C(C[C@@H](CCCCCCCCCS(CCCC(F)(F)C(F)(F...\n",
       "19                  7g  OC1=CC=C2C(C[C@@H](CCCCCCCCCS(CCCC(F)(F)C(F)(F...\n",
       "20                  7h  OC1=CC=C2C(C[C@@H](CCCCCCCCCS(CCCC(F)(F)C(F)(F...\n",
       "21                  7i  OC1=CC=C2C(C[C@@H](CCCCCCCCCS(CCCC(F)(F)C(F)(F...\n",
       "22                  7j  OC1=CC=C2C(C[C@@H](CCCCCCCCCS(CCCC(F)(F)C(F)(F...\n",
       "23                  7k  OC1=CC=C2C(C[C@@H](CCCCCCCCCS(CCCC(F)(F)C(F)(F...\n",
       "24                  7l  OC1=CC=C2C(C[C@@H](CCCCCCCCCS(CCCC(F)(F)C(F)(F...\n",
       "25                  7m  OC1=CC=C2C(C[C@@H](CCCCCCCCCS(CCCC(F)(F)C(F)(F..."
      ]
     },
     "execution_count": 19,
     "metadata": {},
     "output_type": "execute_result"
    }
   ],
   "source": [
    "molecules"
   ]
  },
  {
   "cell_type": "code",
   "execution_count": 13,
   "id": "9b786eb6",
   "metadata": {},
   "outputs": [],
   "source": [
    "descs=best5\n",
    "\n",
    "X_train2 = X_reduced[descs]\n",
    "\n",
    "clf = LogisticRegression(solver='liblinear', multi_class='ovr',class_weight='balanced')\n",
    "\n",
    "clf.fit(X_train2,Y)\n",
    "\n",
    "pickle.dump(clf, open(\"best_model.p\", \"wb\"))\n",
    "pickle.dump(descs, open(\"best_features.p\",\"wb\"))\n",
    "pickle.dump(scaler, open(\"scaler.p\",\"wb\"))\n",
    "pickle.dump(X, open(\"X.p\",\"wb\"))\n",
    "pickle.dump(data,open(\"data.p\",\"wb\"))\n"
   ]
  },
  {
   "cell_type": "code",
   "execution_count": 10,
   "id": "eddf74a8",
   "metadata": {},
   "outputs": [
    {
     "data": {
      "text/html": [
       "<div>\n",
       "<style scoped>\n",
       "    .dataframe tbody tr th:only-of-type {\n",
       "        vertical-align: middle;\n",
       "    }\n",
       "\n",
       "    .dataframe tbody tr th {\n",
       "        vertical-align: top;\n",
       "    }\n",
       "\n",
       "    .dataframe thead th {\n",
       "        text-align: right;\n",
       "    }\n",
       "</style>\n",
       "<table border=\"1\" class=\"dataframe\">\n",
       "  <thead>\n",
       "    <tr style=\"text-align: right;\">\n",
       "      <th></th>\n",
       "      <th>SMILES</th>\n",
       "      <th>CASRN</th>\n",
       "      <th>NAME</th>\n",
       "      <th>MW</th>\n",
       "      <th>AMW</th>\n",
       "      <th>Sv</th>\n",
       "      <th>Se</th>\n",
       "      <th>Sp</th>\n",
       "      <th>Si</th>\n",
       "      <th>Mv</th>\n",
       "      <th>...</th>\n",
       "      <th>s4_numAroBonds</th>\n",
       "      <th>s34_size</th>\n",
       "      <th>s34_relSize</th>\n",
       "      <th>s34_phSize</th>\n",
       "      <th>s34_phRelSize</th>\n",
       "      <th>chiralMoment</th>\n",
       "      <th>chiralPhMoment</th>\n",
       "      <th>RG</th>\n",
       "      <th>Group</th>\n",
       "      <th>RG_binary</th>\n",
       "    </tr>\n",
       "  </thead>\n",
       "  <tbody>\n",
       "    <tr>\n",
       "      <th>0</th>\n",
       "      <td>[H][C@]12C[C@@H](OC(=O)C3=CC(OC)=C(OC)C(OC)=C3...</td>\n",
       "      <td>50-55-5</td>\n",
       "      <td>Reserpine</td>\n",
       "      <td>608.8</td>\n",
       "      <td>7.247</td>\n",
       "      <td>51.49</td>\n",
       "      <td>84.94</td>\n",
       "      <td>53.57</td>\n",
       "      <td>94.77</td>\n",
       "      <td>0.6129</td>\n",
       "      <td>...</td>\n",
       "      <td>6.667</td>\n",
       "      <td>34.17</td>\n",
       "      <td>0.7765</td>\n",
       "      <td>9.000</td>\n",
       "      <td>0.20450</td>\n",
       "      <td>30.00</td>\n",
       "      <td>8.249</td>\n",
       "      <td>0.707069</td>\n",
       "      <td>1</td>\n",
       "      <td>False</td>\n",
       "    </tr>\n",
       "    <tr>\n",
       "      <th>1</th>\n",
       "      <td>CC[C@H]1OC(=O)[C@H](C)[C@@H](O[C@H]2C[C@@](C)(...</td>\n",
       "      <td>83905-01-5</td>\n",
       "      <td>Azithromycin</td>\n",
       "      <td>749.1</td>\n",
       "      <td>6.041</td>\n",
       "      <td>67.06</td>\n",
       "      <td>124.10</td>\n",
       "      <td>72.11</td>\n",
       "      <td>142.00</td>\n",
       "      <td>0.5408</td>\n",
       "      <td>...</td>\n",
       "      <td>0.000</td>\n",
       "      <td>48.08</td>\n",
       "      <td>0.9247</td>\n",
       "      <td>13.030</td>\n",
       "      <td>0.25050</td>\n",
       "      <td>58.19</td>\n",
       "      <td>15.960</td>\n",
       "      <td>1.054428</td>\n",
       "      <td>1</td>\n",
       "      <td>False</td>\n",
       "    </tr>\n",
       "    <tr>\n",
       "      <th>2</th>\n",
       "      <td>ClC1=CC=CC=C1CN1CCC2=C(C1)C=CS2</td>\n",
       "      <td>55142-85-3</td>\n",
       "      <td>Ticlopidine</td>\n",
       "      <td>263.8</td>\n",
       "      <td>8.510</td>\n",
       "      <td>20.72</td>\n",
       "      <td>30.69</td>\n",
       "      <td>22.84</td>\n",
       "      <td>34.27</td>\n",
       "      <td>0.6685</td>\n",
       "      <td>...</td>\n",
       "      <td>0.000</td>\n",
       "      <td>0.00</td>\n",
       "      <td>0.0000</td>\n",
       "      <td>0.000</td>\n",
       "      <td>0.00000</td>\n",
       "      <td>0.00</td>\n",
       "      <td>0.000</td>\n",
       "      <td>1.057829</td>\n",
       "      <td>1</td>\n",
       "      <td>False</td>\n",
       "    </tr>\n",
       "    <tr>\n",
       "      <th>3</th>\n",
       "      <td>CN(C)CCCC1(OCC2=C1C=CC(=C2)C#N)C1=CC=C(F)C=C1</td>\n",
       "      <td>59729-33-8</td>\n",
       "      <td>Citalopram</td>\n",
       "      <td>324.4</td>\n",
       "      <td>7.210</td>\n",
       "      <td>28.41</td>\n",
       "      <td>44.88</td>\n",
       "      <td>30.02</td>\n",
       "      <td>50.70</td>\n",
       "      <td>0.6313</td>\n",
       "      <td>...</td>\n",
       "      <td>6.000</td>\n",
       "      <td>15.00</td>\n",
       "      <td>0.6250</td>\n",
       "      <td>1.000</td>\n",
       "      <td>0.04167</td>\n",
       "      <td>9.11</td>\n",
       "      <td>1.732</td>\n",
       "      <td>1.015802</td>\n",
       "      <td>1</td>\n",
       "      <td>False</td>\n",
       "    </tr>\n",
       "    <tr>\n",
       "      <th>4</th>\n",
       "      <td>[H][C@@]12CCCC[C@]1([H])CN(C[C@@H](O)[C@H](CSC...</td>\n",
       "      <td>159989-64-7</td>\n",
       "      <td>Nelfinavir</td>\n",
       "      <td>567.9</td>\n",
       "      <td>6.681</td>\n",
       "      <td>50.17</td>\n",
       "      <td>84.25</td>\n",
       "      <td>54.47</td>\n",
       "      <td>95.97</td>\n",
       "      <td>0.5903</td>\n",
       "      <td>...</td>\n",
       "      <td>9.600</td>\n",
       "      <td>35.10</td>\n",
       "      <td>0.8775</td>\n",
       "      <td>6.800</td>\n",
       "      <td>0.17000</td>\n",
       "      <td>37.32</td>\n",
       "      <td>7.605</td>\n",
       "      <td>1.156914</td>\n",
       "      <td>1</td>\n",
       "      <td>False</td>\n",
       "    </tr>\n",
       "    <tr>\n",
       "      <th>...</th>\n",
       "      <td>...</td>\n",
       "      <td>...</td>\n",
       "      <td>...</td>\n",
       "      <td>...</td>\n",
       "      <td>...</td>\n",
       "      <td>...</td>\n",
       "      <td>...</td>\n",
       "      <td>...</td>\n",
       "      <td>...</td>\n",
       "      <td>...</td>\n",
       "      <td>...</td>\n",
       "      <td>...</td>\n",
       "      <td>...</td>\n",
       "      <td>...</td>\n",
       "      <td>...</td>\n",
       "      <td>...</td>\n",
       "      <td>...</td>\n",
       "      <td>...</td>\n",
       "      <td>...</td>\n",
       "      <td>...</td>\n",
       "      <td>...</td>\n",
       "    </tr>\n",
       "    <tr>\n",
       "      <th>137</th>\n",
       "      <td>CC1=CC(C)=C(Br)C(C)=C1NC(=O)CN(CC(O)=O)CC(O)=O</td>\n",
       "      <td>78266-06-5</td>\n",
       "      <td>Mebrofenin</td>\n",
       "      <td>387.3</td>\n",
       "      <td>9.220</td>\n",
       "      <td>26.38</td>\n",
       "      <td>43.02</td>\n",
       "      <td>27.49</td>\n",
       "      <td>47.62</td>\n",
       "      <td>0.6282</td>\n",
       "      <td>...</td>\n",
       "      <td>0.000</td>\n",
       "      <td>0.00</td>\n",
       "      <td>0.0000</td>\n",
       "      <td>0.000</td>\n",
       "      <td>0.00000</td>\n",
       "      <td>0.00</td>\n",
       "      <td>0.000</td>\n",
       "      <td>1.127932</td>\n",
       "      <td>6</td>\n",
       "      <td>False</td>\n",
       "    </tr>\n",
       "    <tr>\n",
       "      <th>138</th>\n",
       "      <td>[H][C@]12CCC[C@H](N1C(=O)[C@H](CCS2)NC(=O)[C@@...</td>\n",
       "      <td>167305-00-2</td>\n",
       "      <td>Omapatrilat</td>\n",
       "      <td>408.6</td>\n",
       "      <td>8.012</td>\n",
       "      <td>32.07</td>\n",
       "      <td>51.39</td>\n",
       "      <td>34.50</td>\n",
       "      <td>57.24</td>\n",
       "      <td>0.6288</td>\n",
       "      <td>...</td>\n",
       "      <td>4.500</td>\n",
       "      <td>23.75</td>\n",
       "      <td>0.8796</td>\n",
       "      <td>6.000</td>\n",
       "      <td>0.22220</td>\n",
       "      <td>28.61</td>\n",
       "      <td>8.513</td>\n",
       "      <td>1.091463</td>\n",
       "      <td>6</td>\n",
       "      <td>False</td>\n",
       "    </tr>\n",
       "    <tr>\n",
       "      <th>139</th>\n",
       "      <td>[H][C@@]12CC3=C(C(O)=CC=C3)C(=O)C1=C(O)[C@]1(O...</td>\n",
       "      <td>15866-90-7</td>\n",
       "      <td>Incyclinide</td>\n",
       "      <td>371.4</td>\n",
       "      <td>8.440</td>\n",
       "      <td>29.24</td>\n",
       "      <td>45.46</td>\n",
       "      <td>29.28</td>\n",
       "      <td>49.29</td>\n",
       "      <td>0.6645</td>\n",
       "      <td>...</td>\n",
       "      <td>3.333</td>\n",
       "      <td>19.83</td>\n",
       "      <td>0.7346</td>\n",
       "      <td>6.667</td>\n",
       "      <td>0.24690</td>\n",
       "      <td>16.41</td>\n",
       "      <td>6.644</td>\n",
       "      <td>0.890418</td>\n",
       "      <td>6</td>\n",
       "      <td>False</td>\n",
       "    </tr>\n",
       "    <tr>\n",
       "      <th>140</th>\n",
       "      <td>NC1=CC=C(C=C1)S(=O)(=O)NC(=O)C1=CC=CC=C1</td>\n",
       "      <td>127-71-9</td>\n",
       "      <td>Sulfabenzamide</td>\n",
       "      <td>276.3</td>\n",
       "      <td>8.914</td>\n",
       "      <td>21.01</td>\n",
       "      <td>31.68</td>\n",
       "      <td>21.83</td>\n",
       "      <td>34.62</td>\n",
       "      <td>0.6777</td>\n",
       "      <td>...</td>\n",
       "      <td>0.000</td>\n",
       "      <td>0.00</td>\n",
       "      <td>0.0000</td>\n",
       "      <td>0.000</td>\n",
       "      <td>0.00000</td>\n",
       "      <td>0.00</td>\n",
       "      <td>0.000</td>\n",
       "      <td>1.012424</td>\n",
       "      <td>6</td>\n",
       "      <td>False</td>\n",
       "    </tr>\n",
       "    <tr>\n",
       "      <th>141</th>\n",
       "      <td>[H][C@]12SCC(C)=C(N1C(=O)[C@H]2NC(=O)C(=N/OC)\\...</td>\n",
       "      <td>65052-63-3</td>\n",
       "      <td>Cefetamet</td>\n",
       "      <td>397.5</td>\n",
       "      <td>9.695</td>\n",
       "      <td>27.69</td>\n",
       "      <td>42.72</td>\n",
       "      <td>28.40</td>\n",
       "      <td>46.45</td>\n",
       "      <td>0.6754</td>\n",
       "      <td>...</td>\n",
       "      <td>5.000</td>\n",
       "      <td>20.75</td>\n",
       "      <td>0.7981</td>\n",
       "      <td>8.750</td>\n",
       "      <td>0.33650</td>\n",
       "      <td>20.49</td>\n",
       "      <td>9.847</td>\n",
       "      <td>1.074564</td>\n",
       "      <td>6</td>\n",
       "      <td>False</td>\n",
       "    </tr>\n",
       "  </tbody>\n",
       "</table>\n",
       "<p>142 rows × 5672 columns</p>\n",
       "</div>"
      ],
      "text/plain": [
       "                                                SMILES        CASRN  \\\n",
       "0    [H][C@]12C[C@@H](OC(=O)C3=CC(OC)=C(OC)C(OC)=C3...      50-55-5   \n",
       "1    CC[C@H]1OC(=O)[C@H](C)[C@@H](O[C@H]2C[C@@](C)(...   83905-01-5   \n",
       "2                      ClC1=CC=CC=C1CN1CCC2=C(C1)C=CS2   55142-85-3   \n",
       "3        CN(C)CCCC1(OCC2=C1C=CC(=C2)C#N)C1=CC=C(F)C=C1   59729-33-8   \n",
       "4    [H][C@@]12CCCC[C@]1([H])CN(C[C@@H](O)[C@H](CSC...  159989-64-7   \n",
       "..                                                 ...          ...   \n",
       "137     CC1=CC(C)=C(Br)C(C)=C1NC(=O)CN(CC(O)=O)CC(O)=O   78266-06-5   \n",
       "138  [H][C@]12CCC[C@H](N1C(=O)[C@H](CCS2)NC(=O)[C@@...  167305-00-2   \n",
       "139  [H][C@@]12CC3=C(C(O)=CC=C3)C(=O)C1=C(O)[C@]1(O...   15866-90-7   \n",
       "140           NC1=CC=C(C=C1)S(=O)(=O)NC(=O)C1=CC=CC=C1     127-71-9   \n",
       "141  [H][C@]12SCC(C)=C(N1C(=O)[C@H]2NC(=O)C(=N/OC)\\...   65052-63-3   \n",
       "\n",
       "               NAME     MW    AMW     Sv      Se     Sp      Si      Mv  ...  \\\n",
       "0         Reserpine  608.8  7.247  51.49   84.94  53.57   94.77  0.6129  ...   \n",
       "1      Azithromycin  749.1  6.041  67.06  124.10  72.11  142.00  0.5408  ...   \n",
       "2       Ticlopidine  263.8  8.510  20.72   30.69  22.84   34.27  0.6685  ...   \n",
       "3        Citalopram  324.4  7.210  28.41   44.88  30.02   50.70  0.6313  ...   \n",
       "4        Nelfinavir  567.9  6.681  50.17   84.25  54.47   95.97  0.5903  ...   \n",
       "..              ...    ...    ...    ...     ...    ...     ...     ...  ...   \n",
       "137      Mebrofenin  387.3  9.220  26.38   43.02  27.49   47.62  0.6282  ...   \n",
       "138     Omapatrilat  408.6  8.012  32.07   51.39  34.50   57.24  0.6288  ...   \n",
       "139     Incyclinide  371.4  8.440  29.24   45.46  29.28   49.29  0.6645  ...   \n",
       "140  Sulfabenzamide  276.3  8.914  21.01   31.68  21.83   34.62  0.6777  ...   \n",
       "141       Cefetamet  397.5  9.695  27.69   42.72  28.40   46.45  0.6754  ...   \n",
       "\n",
       "     s4_numAroBonds  s34_size  s34_relSize  s34_phSize  s34_phRelSize  \\\n",
       "0             6.667     34.17       0.7765       9.000        0.20450   \n",
       "1             0.000     48.08       0.9247      13.030        0.25050   \n",
       "2             0.000      0.00       0.0000       0.000        0.00000   \n",
       "3             6.000     15.00       0.6250       1.000        0.04167   \n",
       "4             9.600     35.10       0.8775       6.800        0.17000   \n",
       "..              ...       ...          ...         ...            ...   \n",
       "137           0.000      0.00       0.0000       0.000        0.00000   \n",
       "138           4.500     23.75       0.8796       6.000        0.22220   \n",
       "139           3.333     19.83       0.7346       6.667        0.24690   \n",
       "140           0.000      0.00       0.0000       0.000        0.00000   \n",
       "141           5.000     20.75       0.7981       8.750        0.33650   \n",
       "\n",
       "     chiralMoment  chiralPhMoment        RG  Group  RG_binary  \n",
       "0           30.00           8.249  0.707069      1      False  \n",
       "1           58.19          15.960  1.054428      1      False  \n",
       "2            0.00           0.000  1.057829      1      False  \n",
       "3            9.11           1.732  1.015802      1      False  \n",
       "4           37.32           7.605  1.156914      1      False  \n",
       "..            ...             ...       ...    ...        ...  \n",
       "137          0.00           0.000  1.127932      6      False  \n",
       "138         28.61           8.513  1.091463      6      False  \n",
       "139         16.41           6.644  0.890418      6      False  \n",
       "140          0.00           0.000  1.012424      6      False  \n",
       "141         20.49           9.847  1.074564      6      False  \n",
       "\n",
       "[142 rows x 5672 columns]"
      ]
     },
     "execution_count": 10,
     "metadata": {},
     "output_type": "execute_result"
    }
   ],
   "source": [
    "data"
   ]
  },
  {
   "cell_type": "code",
   "execution_count": null,
   "id": "bcbfdbaa",
   "metadata": {},
   "outputs": [],
   "source": [
    "# save features from best model\n",
    "# best5 = ['Mor32m', 'NaaaC', 'ALOGP2', 'VE1sign_RG', 'B04[N-O]']\n"
   ]
  }
 ],
 "metadata": {
  "kernelspec": {
   "display_name": "Python [conda env:my-rdkit-env] *",
   "language": "python",
   "name": "conda-env-my-rdkit-env-py"
  },
  "language_info": {
   "codemirror_mode": {
    "name": "ipython",
    "version": 3
   },
   "file_extension": ".py",
   "mimetype": "text/x-python",
   "name": "python",
   "nbconvert_exporter": "python",
   "pygments_lexer": "ipython3",
   "version": "3.7.11"
  }
 },
 "nbformat": 4,
 "nbformat_minor": 5
}
